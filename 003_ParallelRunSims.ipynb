{
 "cells": [
  {
   "cell_type": "markdown",
   "metadata": {},
   "source": [
    "## Callin Switzer\n",
    "10 Dec 2018\n",
    "### Modified TLD script for running simulation"
   ]
  },
  {
   "cell_type": "raw",
   "metadata": {},
   "source": [
    "#  Jorge BugBuster\n",
    "###  This is a quick look at Jorge's ODE system for the abdo-flex model.  WHOA... be sure to use cgs (centimeter, gram, seconds) system!\n",
    "###  TLD -- based on Code from Jorge Bustamante 2018\n",
    "###    Python modification of Matlab code.  \n",
    "###    updated: 29 Nov. 2018"
   ]
  },
  {
   "cell_type": "code",
   "execution_count": 1,
   "metadata": {},
   "outputs": [
    {
     "name": "stdout",
     "output_type": "stream",
     "text": [
      "3.6.6 | packaged by conda-forge | (default, Jul 26 2018, 11:48:23) [MSC v.1900 64 bit (AMD64)]\n"
     ]
    }
   ],
   "source": [
    "import matplotlib.pyplot as plt\n",
    "%matplotlib inline\n",
    "import numpy as np\n",
    "import os\n",
    "import pandas as pd\n",
    "import seaborn as sns\n",
    "from scipy.integrate import odeint\n",
    "import random\n",
    "import time\n",
    "from datetime import datetime\n",
    "import sys\n",
    "from multiprocessing import Pool, cpu_count\n",
    "import multiProcTraj # note that this is a custom-written file \n",
    "\n",
    "print(sys.version)"
   ]
  },
  {
   "cell_type": "code",
   "execution_count": 2,
   "metadata": {},
   "outputs": [
    {
     "name": "stdout",
     "output_type": "stream",
     "text": [
      "3.6.6 | packaged by conda-forge | (default, Jul 26 2018, 11:48:23) [MSC v.1900 64 bit (AMD64)] \n",
      "\n",
      "last run on 2018-12-10 13:57:52.628451\n"
     ]
    }
   ],
   "source": [
    "now = datetime.now()\n",
    "print(\"last run on \" + str(now))\n",
    "\n",
    "# define directories\n",
    "baseDir = os.getcwd()\n",
    "dataDir = r'D:\\MothSimulations\\11c-AggressiveManeuver\\Qstore\\hws_am_con'\n",
    "figDir = r'D:\\Dropbox\\AcademiaDropbox\\mothMachineLearning_dataAndFigs\\Figs'\n",
    "dataOutput = r'D:\\Dropbox\\AcademiaDropbox\\mothMachineLearning_dataAndFigs\\DataOutput'\n",
    "savedModels = r'D:\\Dropbox\\AcademiaDropbox\\mothMachineLearning_dataAndFigs\\savedModels'\n",
    "pythonMadeData = r\"D:\\Dropbox\\AcademiaDropbox\\mothMachineLearning_dataAndFigs\\PythonGeneratedData\"\n",
    "\n",
    "if not os.path.exists(dataOutput):\n",
    "    os.mkdir(dataOutput)\n",
    "    \n",
    "if not os.path.exists(savedModels):\n",
    "    os.mkdir(savedModels)"
   ]
  },
  {
   "cell_type": "code",
   "execution_count": 4,
   "metadata": {},
   "outputs": [
    {
     "name": "stdout",
     "output_type": "stream",
     "text": [
      "4.576222896575928\n",
      "4.804596662521362\n"
     ]
    }
   ],
   "source": [
    "# parallel run of simulations\n",
    "p = Pool(cpu_count()-1)\n",
    "stt = time.time()   \n",
    "bb = p.map(multiProcTraj.flyBug_firstLast, range(1000) ) \n",
    "print(time.time() -stt)\n",
    "\n",
    "p.close()\n",
    "p.join()\n",
    "print(time.time() -stt)"
   ]
  },
  {
   "cell_type": "raw",
   "metadata": {},
   "source": [
    "np.array(bb).shape"
   ]
  },
  {
   "cell_type": "raw",
   "metadata": {},
   "source": [
    "# plot first and last points of trajectory\n",
    "fig, ax = plt.subplots()\n",
    "\n",
    "# shows only first and last points (that's why all the lines are straight)\n",
    "for i in range(0,1000):\n",
    "    ax.plot(np.array(bb)[i, [0,1]], np.array(bb)[i, [4,5]], label = 'trajectory x vs y')\n",
    "ax.set_aspect(1)\n",
    "plt.show()"
   ]
  },
  {
   "cell_type": "raw",
   "metadata": {},
   "source": [
    "# this code makes the whole trajectory\n",
    "p = Pool(cpu_count()-1)\n",
    "stt = time.time()   \n",
    "bb = p.map(multiProcTraj.flyBug, range(1000) ) \n",
    "print(time.time() -stt)\n",
    "\n",
    "p.close()\n",
    "p.join()\n",
    "print(time.time() -stt)\n",
    "\n",
    "fig, ax = plt.subplots()\n",
    "# shows all intermediat points (lines are curved)\n",
    "for i in range(0,1000):\n",
    "    ax.plot(np.array(bb)[i, 0, :], np.array(bb)[i, 2, :], label = 'trajectory x vs y')\n",
    "ax.set_aspect(1)\n",
    "plt.show()"
   ]
  },
  {
   "cell_type": "code",
   "execution_count": 5,
   "metadata": {},
   "outputs": [
    {
     "data": {
      "text/html": [
       "<div>\n",
       "<style scoped>\n",
       "    .dataframe tbody tr th:only-of-type {\n",
       "        vertical-align: middle;\n",
       "    }\n",
       "\n",
       "    .dataframe tbody tr th {\n",
       "        vertical-align: top;\n",
       "    }\n",
       "\n",
       "    .dataframe thead th {\n",
       "        text-align: right;\n",
       "    }\n",
       "</style>\n",
       "<table border=\"1\" class=\"dataframe\">\n",
       "  <thead>\n",
       "    <tr style=\"text-align: right;\">\n",
       "      <th></th>\n",
       "      <th>x0</th>\n",
       "      <th>xf</th>\n",
       "      <th>xd0</th>\n",
       "      <th>xdf</th>\n",
       "      <th>y0</th>\n",
       "      <th>yf</th>\n",
       "      <th>yd0</th>\n",
       "      <th>ydf</th>\n",
       "      <th>theta0</th>\n",
       "      <th>thetaf</th>\n",
       "      <th>thetad0</th>\n",
       "      <th>thetadf</th>\n",
       "      <th>phi0</th>\n",
       "      <th>phif</th>\n",
       "      <th>phid0</th>\n",
       "      <th>phidf</th>\n",
       "      <th>F</th>\n",
       "      <th>alpha</th>\n",
       "      <th>tau0</th>\n",
       "    </tr>\n",
       "  </thead>\n",
       "  <tbody>\n",
       "    <tr>\n",
       "      <th>0</th>\n",
       "      <td>0.0</td>\n",
       "      <td>7.420166</td>\n",
       "      <td>248.394760</td>\n",
       "      <td>492.843949</td>\n",
       "      <td>0.0</td>\n",
       "      <td>35.124571</td>\n",
       "      <td>1391.168132</td>\n",
       "      <td>2159.540260</td>\n",
       "      <td>4.011130</td>\n",
       "      <td>4.024171</td>\n",
       "      <td>-18.977914</td>\n",
       "      <td>17.367349</td>\n",
       "      <td>3.908975</td>\n",
       "      <td>3.821547</td>\n",
       "      <td>-18.805303</td>\n",
       "      <td>12.238333</td>\n",
       "      <td>43759.640202</td>\n",
       "      <td>3.519515</td>\n",
       "      <td>70839.619709</td>\n",
       "    </tr>\n",
       "    <tr>\n",
       "      <th>1</th>\n",
       "      <td>0.0</td>\n",
       "      <td>-17.075861</td>\n",
       "      <td>-706.871401</td>\n",
       "      <td>-1029.228030</td>\n",
       "      <td>0.0</td>\n",
       "      <td>22.600107</td>\n",
       "      <td>1044.454408</td>\n",
       "      <td>1255.836910</td>\n",
       "      <td>0.350242</td>\n",
       "      <td>0.373942</td>\n",
       "      <td>-14.404483</td>\n",
       "      <td>-11.022440</td>\n",
       "      <td>0.138709</td>\n",
       "      <td>0.098210</td>\n",
       "      <td>19.512574</td>\n",
       "      <td>-14.379937</td>\n",
       "      <td>21300.703739</td>\n",
       "      <td>2.093621</td>\n",
       "      <td>46906.320083</td>\n",
       "    </tr>\n",
       "    <tr>\n",
       "      <th>2</th>\n",
       "      <td>0.0</td>\n",
       "      <td>-20.423903</td>\n",
       "      <td>-1009.812221</td>\n",
       "      <td>-1056.975282</td>\n",
       "      <td>0.0</td>\n",
       "      <td>18.282782</td>\n",
       "      <td>894.016702</td>\n",
       "      <td>951.480928</td>\n",
       "      <td>2.492981</td>\n",
       "      <td>2.717022</td>\n",
       "      <td>13.442749</td>\n",
       "      <td>11.362467</td>\n",
       "      <td>1.841144</td>\n",
       "      <td>1.986159</td>\n",
       "      <td>6.211143</td>\n",
       "      <td>7.340505</td>\n",
       "      <td>5036.631542</td>\n",
       "      <td>5.738151</td>\n",
       "      <td>55481.006261</td>\n",
       "    </tr>\n",
       "    <tr>\n",
       "      <th>3</th>\n",
       "      <td>0.0</td>\n",
       "      <td>2.331942</td>\n",
       "      <td>-41.780679</td>\n",
       "      <td>259.813363</td>\n",
       "      <td>0.0</td>\n",
       "      <td>-6.172613</td>\n",
       "      <td>-478.621499</td>\n",
       "      <td>-129.914887</td>\n",
       "      <td>5.358667</td>\n",
       "      <td>5.613988</td>\n",
       "      <td>14.392008</td>\n",
       "      <td>12.536110</td>\n",
       "      <td>3.251627</td>\n",
       "      <td>3.509210</td>\n",
       "      <td>13.134225</td>\n",
       "      <td>12.653631</td>\n",
       "      <td>25254.156212</td>\n",
       "      <td>1.667721</td>\n",
       "      <td>676.537344</td>\n",
       "    </tr>\n",
       "    <tr>\n",
       "      <th>4</th>\n",
       "      <td>0.0</td>\n",
       "      <td>13.995204</td>\n",
       "      <td>686.641041</td>\n",
       "      <td>716.229655</td>\n",
       "      <td>0.0</td>\n",
       "      <td>24.640371</td>\n",
       "      <td>1448.885232</td>\n",
       "      <td>1044.368082</td>\n",
       "      <td>2.890462</td>\n",
       "      <td>2.652531</td>\n",
       "      <td>-2.717126</td>\n",
       "      <td>-14.398627</td>\n",
       "      <td>5.360389</td>\n",
       "      <td>5.093178</td>\n",
       "      <td>-13.707349</td>\n",
       "      <td>-15.881219</td>\n",
       "      <td>19711.404032</td>\n",
       "      <td>2.011415</td>\n",
       "      <td>22066.385492</td>\n",
       "    </tr>\n",
       "  </tbody>\n",
       "</table>\n",
       "</div>"
      ],
      "text/plain": [
       "    x0         xf          xd0          xdf   y0         yf          yd0  \\\n",
       "0  0.0   7.420166   248.394760   492.843949  0.0  35.124571  1391.168132   \n",
       "1  0.0 -17.075861  -706.871401 -1029.228030  0.0  22.600107  1044.454408   \n",
       "2  0.0 -20.423903 -1009.812221 -1056.975282  0.0  18.282782   894.016702   \n",
       "3  0.0   2.331942   -41.780679   259.813363  0.0  -6.172613  -478.621499   \n",
       "4  0.0  13.995204   686.641041   716.229655  0.0  24.640371  1448.885232   \n",
       "\n",
       "           ydf    theta0    thetaf    thetad0    thetadf      phi0      phif  \\\n",
       "0  2159.540260  4.011130  4.024171 -18.977914  17.367349  3.908975  3.821547   \n",
       "1  1255.836910  0.350242  0.373942 -14.404483 -11.022440  0.138709  0.098210   \n",
       "2   951.480928  2.492981  2.717022  13.442749  11.362467  1.841144  1.986159   \n",
       "3  -129.914887  5.358667  5.613988  14.392008  12.536110  3.251627  3.509210   \n",
       "4  1044.368082  2.890462  2.652531  -2.717126 -14.398627  5.360389  5.093178   \n",
       "\n",
       "       phid0      phidf             F     alpha          tau0  \n",
       "0 -18.805303  12.238333  43759.640202  3.519515  70839.619709  \n",
       "1  19.512574 -14.379937  21300.703739  2.093621  46906.320083  \n",
       "2   6.211143   7.340505   5036.631542  5.738151  55481.006261  \n",
       "3  13.134225  12.653631  25254.156212  1.667721    676.537344  \n",
       "4 -13.707349 -15.881219  19711.404032  2.011415  22066.385492  "
      ]
     },
     "execution_count": 5,
     "metadata": {},
     "output_type": "execute_result"
    }
   ],
   "source": [
    "# save data to csv\n",
    "newDF = pd.DataFrame(bb, columns= [\"x0\", \"xf\", \"xd0\", \"xdf\", \"y0\", \"yf\", \"yd0\", \"ydf\", \"theta0\", \\\n",
    "\"thetaf\", \"thetad0\", \"thetadf\", \"phi0\", \"phif\", \"phid0\", \"phidf\", \"F\", \"alpha\", \"tau0\"])\n",
    "\n",
    "\n",
    "newDF.head()"
   ]
  },
  {
   "cell_type": "code",
   "execution_count": 8,
   "metadata": {},
   "outputs": [],
   "source": [
    "tstamp = datetime.now().strftime(\"%Y_%m_%d__%H_%M_%S\")\n",
    "print(tstamp)"
   ]
  },
  {
   "cell_type": "code",
   "execution_count": 8,
   "metadata": {},
   "outputs": [
    {
     "name": "stdout",
     "output_type": "stream",
     "text": [
      "2018_12_10__13_59_30\n"
     ]
    }
   ],
   "source": [
    "newDF.to_csv(os.path.join(pythonMadeData, \n",
    "                          \"RandomInitCond_\" + tstamp + \".csv\"),\n",
    "             index = False)"
   ]
  },
  {
   "cell_type": "code",
   "execution_count": null,
   "metadata": {},
   "outputs": [],
   "source": []
  }
 ],
 "metadata": {
  "celltoolbar": "Raw Cell Format",
  "kernelspec": {
   "display_name": "numSolve",
   "language": "python",
   "name": "numsolve"
  },
  "language_info": {
   "codemirror_mode": {
    "name": "ipython",
    "version": 3
   },
   "file_extension": ".py",
   "mimetype": "text/x-python",
   "name": "python",
   "nbconvert_exporter": "python",
   "pygments_lexer": "ipython3",
   "version": "3.6.6"
  }
 },
 "nbformat": 4,
 "nbformat_minor": 2
}
