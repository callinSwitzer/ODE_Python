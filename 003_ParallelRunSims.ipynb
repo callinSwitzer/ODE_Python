{
 "cells": [
  {
   "cell_type": "markdown",
   "metadata": {},
   "source": [
    "## Callin Switzer\n",
    "10 Dec 2018\n",
    "### Modified TLD script for running simulation"
   ]
  },
  {
   "cell_type": "raw",
   "metadata": {},
   "source": [
    "#  Jorge BugBuster\n",
    "###  This is a quick look at Jorge's ODE system for the abdo-flex model.  WHOA... be sure to use cgs (centimeter, gram, seconds) system!\n",
    "###  TLD -- based on Code from Jorge Bustamante 2018\n",
    "###    Python modification of Matlab code.  \n",
    "###    updated: 29 Nov. 2018"
   ]
  },
  {
   "cell_type": "code",
   "execution_count": 1,
   "metadata": {},
   "outputs": [
    {
     "name": "stdout",
     "output_type": "stream",
     "text": [
      "3.6.6 | packaged by conda-forge | (default, Jul 26 2018, 11:48:23) [MSC v.1900 64 bit (AMD64)]\n"
     ]
    }
   ],
   "source": [
    "import matplotlib.pyplot as plt\n",
    "%matplotlib inline\n",
    "import numpy as np\n",
    "import os\n",
    "import pandas as pd\n",
    "import seaborn as sns\n",
    "from scipy.integrate import odeint\n",
    "import random\n",
    "import time\n",
    "from datetime import datetime\n",
    "import sys\n",
    "from multiprocessing import Pool, cpu_count\n",
    "import multiProcTraj # note that this is a custom-written file \n",
    "\n",
    "print(sys.version)"
   ]
  },
  {
   "cell_type": "code",
   "execution_count": 2,
   "metadata": {},
   "outputs": [
    {
     "name": "stdout",
     "output_type": "stream",
     "text": [
      "last run on 2018-12-31 19:39:10.429699\n"
     ]
    }
   ],
   "source": [
    "now = datetime.now()\n",
    "print(\"last run on \" + str(now))\n",
    "\n",
    "# define directories\n",
    "baseDir = os.getcwd()\n",
    "dataDir = r'D:\\MothSimulations\\11c-AggressiveManeuver\\Qstore\\hws_am_con'\n",
    "figDir = r'D:\\Dropbox\\AcademiaDropbox\\mothMachineLearning_dataAndFigs\\Figs'\n",
    "dataOutput = r'D:\\Dropbox\\AcademiaDropbox\\mothMachineLearning_dataAndFigs\\DataOutput'\n",
    "savedModels = r'D:\\Dropbox\\AcademiaDropbox\\mothMachineLearning_dataAndFigs\\savedModels'\n",
    "pythonMadeData = r\"D:/Dropbox/AcademiaDropbox/mothMachineLearning_dataAndFigs/PythonGeneratedData/TestData/\"\n",
    "\n",
    "if not os.path.exists(dataOutput):\n",
    "    os.mkdir(dataOutput)\n",
    "    \n",
    "if not os.path.exists(savedModels):\n",
    "    os.mkdir(savedModels)"
   ]
  },
  {
   "cell_type": "code",
   "execution_count": 3,
   "metadata": {},
   "outputs": [
    {
     "name": "stdout",
     "output_type": "stream",
     "text": [
      "363.2280042171478\n",
      "363.4530539512634\n"
     ]
    }
   ],
   "source": [
    "# parallel run of simulations -- this generates approximately 1 million simulations per hour\n",
    "p = Pool(cpu_count()-1)\n",
    "stt = time.time()   \n",
    "bb = p.map(multiProcTraj.flyBug_firstLast, range(100000) ) \n",
    "print(time.time() -stt)\n",
    "\n",
    "p.close()\n",
    "p.join()\n",
    "print(time.time() -stt)"
   ]
  },
  {
   "cell_type": "code",
   "execution_count": 4,
   "metadata": {},
   "outputs": [
    {
     "data": {
      "text/html": [
       "<div>\n",
       "<style scoped>\n",
       "    .dataframe tbody tr th:only-of-type {\n",
       "        vertical-align: middle;\n",
       "    }\n",
       "\n",
       "    .dataframe tbody tr th {\n",
       "        vertical-align: top;\n",
       "    }\n",
       "\n",
       "    .dataframe thead th {\n",
       "        text-align: right;\n",
       "    }\n",
       "</style>\n",
       "<table border=\"1\" class=\"dataframe\">\n",
       "  <thead>\n",
       "    <tr style=\"text-align: right;\">\n",
       "      <th></th>\n",
       "      <th>x0</th>\n",
       "      <th>xf</th>\n",
       "      <th>xd0</th>\n",
       "      <th>xdf</th>\n",
       "      <th>y0</th>\n",
       "      <th>yf</th>\n",
       "      <th>yd0</th>\n",
       "      <th>ydf</th>\n",
       "      <th>theta0</th>\n",
       "      <th>thetaf</th>\n",
       "      <th>thetad0</th>\n",
       "      <th>thetadf</th>\n",
       "      <th>phi0</th>\n",
       "      <th>phif</th>\n",
       "      <th>phid0</th>\n",
       "      <th>phidf</th>\n",
       "      <th>F</th>\n",
       "      <th>alpha</th>\n",
       "      <th>tau0</th>\n",
       "    </tr>\n",
       "  </thead>\n",
       "  <tbody>\n",
       "    <tr>\n",
       "      <th>0</th>\n",
       "      <td>0.0</td>\n",
       "      <td>-28.644421</td>\n",
       "      <td>-1483.517169</td>\n",
       "      <td>-1399.268134</td>\n",
       "      <td>0.0</td>\n",
       "      <td>-13.211486</td>\n",
       "      <td>-642.243421</td>\n",
       "      <td>-681.303713</td>\n",
       "      <td>2.439802</td>\n",
       "      <td>2.257997</td>\n",
       "      <td>8.908459</td>\n",
       "      <td>-8.833942</td>\n",
       "      <td>5.525169</td>\n",
       "      <td>5.311201</td>\n",
       "      <td>-18.294570</td>\n",
       "      <td>-10.428846</td>\n",
       "      <td>4598.508390</td>\n",
       "      <td>3.779586</td>\n",
       "      <td>21429.305875</td>\n",
       "    </tr>\n",
       "    <tr>\n",
       "      <th>1</th>\n",
       "      <td>0.0</td>\n",
       "      <td>2.454570</td>\n",
       "      <td>391.123309</td>\n",
       "      <td>-154.306302</td>\n",
       "      <td>0.0</td>\n",
       "      <td>-29.086772</td>\n",
       "      <td>-1479.646558</td>\n",
       "      <td>-1480.245738</td>\n",
       "      <td>3.655088</td>\n",
       "      <td>3.927875</td>\n",
       "      <td>21.007139</td>\n",
       "      <td>25.157307</td>\n",
       "      <td>5.837796</td>\n",
       "      <td>5.968335</td>\n",
       "      <td>-10.567055</td>\n",
       "      <td>17.967478</td>\n",
       "      <td>28688.774412</td>\n",
       "      <td>5.588360</td>\n",
       "      <td>98565.361444</td>\n",
       "    </tr>\n",
       "    <tr>\n",
       "      <th>2</th>\n",
       "      <td>0.0</td>\n",
       "      <td>2.408701</td>\n",
       "      <td>525.725944</td>\n",
       "      <td>-287.503941</td>\n",
       "      <td>0.0</td>\n",
       "      <td>10.877354</td>\n",
       "      <td>606.202682</td>\n",
       "      <td>456.581125</td>\n",
       "      <td>2.037209</td>\n",
       "      <td>2.239437</td>\n",
       "      <td>12.217922</td>\n",
       "      <td>-2.524354</td>\n",
       "      <td>3.156360</td>\n",
       "      <td>3.326172</td>\n",
       "      <td>24.324545</td>\n",
       "      <td>-4.210625</td>\n",
       "      <td>43098.906116</td>\n",
       "      <td>1.098010</td>\n",
       "      <td>25837.747221</td>\n",
       "    </tr>\n",
       "    <tr>\n",
       "      <th>3</th>\n",
       "      <td>0.0</td>\n",
       "      <td>13.735050</td>\n",
       "      <td>630.243949</td>\n",
       "      <td>755.096823</td>\n",
       "      <td>0.0</td>\n",
       "      <td>-5.893565</td>\n",
       "      <td>-354.410183</td>\n",
       "      <td>-217.711831</td>\n",
       "      <td>6.282524</td>\n",
       "      <td>6.375657</td>\n",
       "      <td>-20.943501</td>\n",
       "      <td>7.097795</td>\n",
       "      <td>2.289234</td>\n",
       "      <td>2.493004</td>\n",
       "      <td>16.595249</td>\n",
       "      <td>12.681097</td>\n",
       "      <td>11659.303926</td>\n",
       "      <td>0.906510</td>\n",
       "      <td>-75805.427750</td>\n",
       "    </tr>\n",
       "    <tr>\n",
       "      <th>4</th>\n",
       "      <td>0.0</td>\n",
       "      <td>-18.355834</td>\n",
       "      <td>-998.292624</td>\n",
       "      <td>-864.614299</td>\n",
       "      <td>0.0</td>\n",
       "      <td>-3.613758</td>\n",
       "      <td>-189.272869</td>\n",
       "      <td>-168.766329</td>\n",
       "      <td>3.982658</td>\n",
       "      <td>3.880588</td>\n",
       "      <td>9.351258</td>\n",
       "      <td>-4.591321</td>\n",
       "      <td>3.078300</td>\n",
       "      <td>2.887275</td>\n",
       "      <td>-14.792451</td>\n",
       "      <td>-9.088246</td>\n",
       "      <td>6906.128373</td>\n",
       "      <td>2.695270</td>\n",
       "      <td>62552.020412</td>\n",
       "    </tr>\n",
       "  </tbody>\n",
       "</table>\n",
       "</div>"
      ],
      "text/plain": [
       "    x0         xf          xd0          xdf   y0         yf          yd0  \\\n",
       "0  0.0 -28.644421 -1483.517169 -1399.268134  0.0 -13.211486  -642.243421   \n",
       "1  0.0   2.454570   391.123309  -154.306302  0.0 -29.086772 -1479.646558   \n",
       "2  0.0   2.408701   525.725944  -287.503941  0.0  10.877354   606.202682   \n",
       "3  0.0  13.735050   630.243949   755.096823  0.0  -5.893565  -354.410183   \n",
       "4  0.0 -18.355834  -998.292624  -864.614299  0.0  -3.613758  -189.272869   \n",
       "\n",
       "           ydf    theta0    thetaf    thetad0    thetadf      phi0      phif  \\\n",
       "0  -681.303713  2.439802  2.257997   8.908459  -8.833942  5.525169  5.311201   \n",
       "1 -1480.245738  3.655088  3.927875  21.007139  25.157307  5.837796  5.968335   \n",
       "2   456.581125  2.037209  2.239437  12.217922  -2.524354  3.156360  3.326172   \n",
       "3  -217.711831  6.282524  6.375657 -20.943501   7.097795  2.289234  2.493004   \n",
       "4  -168.766329  3.982658  3.880588   9.351258  -4.591321  3.078300  2.887275   \n",
       "\n",
       "       phid0      phidf             F     alpha          tau0  \n",
       "0 -18.294570 -10.428846   4598.508390  3.779586  21429.305875  \n",
       "1 -10.567055  17.967478  28688.774412  5.588360  98565.361444  \n",
       "2  24.324545  -4.210625  43098.906116  1.098010  25837.747221  \n",
       "3  16.595249  12.681097  11659.303926  0.906510 -75805.427750  \n",
       "4 -14.792451  -9.088246   6906.128373  2.695270  62552.020412  "
      ]
     },
     "execution_count": 4,
     "metadata": {},
     "output_type": "execute_result"
    }
   ],
   "source": [
    "# save data to csv\n",
    "newDF = pd.DataFrame(bb, columns= [\"x0\", \"xf\", \"xd0\", \"xdf\", \"y0\", \"yf\", \"yd0\", \"ydf\", \"theta0\", \\\n",
    "\"thetaf\", \"thetad0\", \"thetadf\", \"phi0\", \"phif\", \"phid0\", \"phidf\", \"F\", \"alpha\", \"tau0\"])\n",
    "\n",
    "\n",
    "newDF.head()"
   ]
  },
  {
   "cell_type": "code",
   "execution_count": 5,
   "metadata": {},
   "outputs": [
    {
     "name": "stdout",
     "output_type": "stream",
     "text": [
      "2018_12_10__14_22_53\n"
     ]
    }
   ],
   "source": [
    "tstamp = datetime.now().strftime(\"%Y_%m_%d__%H_%M_%S\")\n",
    "print(tstamp)"
   ]
  },
  {
   "cell_type": "code",
   "execution_count": 6,
   "metadata": {},
   "outputs": [],
   "source": [
    "newDF.to_csv(os.path.join(pythonMadeData, \n",
    "                          \"RandomInitCond_\" + tstamp + \".csv\"),\n",
    "             index = False)"
   ]
  },
  {
   "cell_type": "code",
   "execution_count": null,
   "metadata": {},
   "outputs": [
    {
     "name": "stdout",
     "output_type": "stream",
     "text": [
      "399.6553225517273\n",
      "400.1539604663849\n",
      "2018_12_31__20_29_02\n"
     ]
    }
   ],
   "source": [
    "# for loop to run parallel processes a few times\n",
    "for ii in range(7):\n",
    "    # parallel run of simulations -- this generates approximately 1 million simulations per hour\n",
    "    p = Pool(cpu_count()-1)\n",
    "    stt = time.time()   \n",
    "    bb = p.map(multiProcTraj.flyBug_firstLast, range(100000) ) \n",
    "    print(time.time() -stt)\n",
    "\n",
    "    p.close()\n",
    "    p.join()\n",
    "    print(time.time() -stt)\n",
    "    newDF = pd.DataFrame(bb, columns= [\"x0\", \"xf\", \"xd0\", \"xdf\", \"y0\", \"yf\", \"yd0\", \"ydf\", \"theta0\", \\\n",
    "            \"thetaf\", \"thetad0\", \"thetadf\", \"phi0\", \"phif\", \"phid0\", \"phidf\", \"F\", \"alpha\", \"tau0\"])\n",
    "    \n",
    "    tstamp = datetime.now().strftime(\"%Y_%m_%d__%H_%M_%S\")\n",
    "    print(tstamp)\n",
    "    \n",
    "    newDF.to_csv(os.path.join(pythonMadeData, \n",
    "                          \"RandomInitCond_\" + tstamp + \".csv\"),\n",
    "             index = False)"
   ]
  },
  {
   "cell_type": "code",
   "execution_count": 18,
   "metadata": {},
   "outputs": [
    {
     "name": "stdout",
     "output_type": "stream",
     "text": [
      "414.25160932540894\n",
      "414.5288679599762\n",
      "2018_12_11__14_04_27\n",
      "399.739559173584\n",
      "399.99508786201477\n",
      "2018_12_11__14_11_10\n",
      "389.85526943206787\n",
      "390.0452449321747\n",
      "2018_12_11__14_17_43\n",
      "394.149986743927\n",
      "394.3095602989197\n",
      "2018_12_11__14_24_20\n",
      "381.10078406333923\n",
      "381.2562851905823\n",
      "2018_12_11__14_30_44\n",
      "384.31866002082825\n",
      "384.4814293384552\n",
      "2018_12_11__14_37_11\n",
      "389.89996337890625\n",
      "390.1273696422577\n",
      "2018_12_11__14_43_43\n",
      "406.1174387931824\n",
      "406.3557960987091\n",
      "2018_12_11__14_50_32\n"
     ]
    }
   ],
   "source": [
    "# for loop to run parallel processes a few times\n",
    "for ii in range(8):\n",
    "    # parallel run of simulations -- this generates approximately 1 million simulations per hour\n",
    "    p = Pool(cpu_count()-4)\n",
    "    stt = time.time()   \n",
    "    bb = p.map(multiProcTraj.flyBug_firstLast, range(100000) ) \n",
    "    print(time.time() -stt)\n",
    "\n",
    "    p.close()\n",
    "    p.join()\n",
    "    print(time.time() -stt)\n",
    "    newDF = pd.DataFrame(bb, columns= [\"x0\", \"xf\", \"xd0\", \"xdf\", \"y0\", \"yf\", \"yd0\", \"ydf\", \"theta0\", \\\n",
    "            \"thetaf\", \"thetad0\", \"thetadf\", \"phi0\", \"phif\", \"phid0\", \"phidf\", \"F\", \"alpha\", \"tau0\"])\n",
    "    \n",
    "    tstamp = datetime.now().strftime(\"%Y_%m_%d__%H_%M_%S\")\n",
    "    print(tstamp)\n",
    "    \n",
    "    newDF.to_csv(os.path.join(pythonMadeData, \n",
    "                          \"RandomInitCond_\" + tstamp + \".csv\"),\n",
    "             index = False)"
   ]
  },
  {
   "cell_type": "code",
   "execution_count": null,
   "metadata": {},
   "outputs": [],
   "source": []
  }
 ],
 "metadata": {
  "celltoolbar": "Raw Cell Format",
  "kernelspec": {
   "display_name": "numSolve",
   "language": "python",
   "name": "numsolve"
  },
  "language_info": {
   "codemirror_mode": {
    "name": "ipython",
    "version": 3
   },
   "file_extension": ".py",
   "mimetype": "text/x-python",
   "name": "python",
   "nbconvert_exporter": "python",
   "pygments_lexer": "ipython3",
   "version": "3.6.6"
  }
 },
 "nbformat": 4,
 "nbformat_minor": 2
}
