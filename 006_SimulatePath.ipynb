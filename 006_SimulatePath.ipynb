{
 "cells": [
  {
   "cell_type": "markdown",
   "metadata": {},
   "source": [
    "## Callin Switzer\n",
    "## Run simulations  for path"
   ]
  },
  {
   "cell_type": "code",
   "execution_count": 23,
   "metadata": {},
   "outputs": [
    {
     "name": "stdout",
     "output_type": "stream",
     "text": [
      "3.6.6 | packaged by conda-forge | (default, Jul 26 2018, 11:48:23) [MSC v.1900 64 bit (AMD64)]\n",
      "last run on 2019-01-01 22:27:31.008094\n"
     ]
    }
   ],
   "source": [
    "import matplotlib.pyplot as plt\n",
    "%matplotlib inline\n",
    "import numpy as np\n",
    "import os\n",
    "import seaborn as sns\n",
    "from scipy.integrate import odeint\n",
    "import random\n",
    "import time\n",
    "from datetime import datetime\n",
    "import sys\n",
    "import pandas as pd\n",
    "import multiProcTraj # note that this is a custom-written file \n",
    "\n",
    "\n",
    "\n",
    "# define directories\n",
    "baseDir = os.getcwd()\n",
    "dataDir = r'D:\\MothSimulations\\11c-AggressiveManeuver\\Qstore\\hws_am_con'\n",
    "figDir = r'D:\\Dropbox\\AcademiaDropbox\\mothMachineLearning_dataAndFigs\\Figs'\n",
    "dataOutput = r'D:\\Dropbox\\AcademiaDropbox\\mothMachineLearning_dataAndFigs\\DataOutput'\n",
    "savedModels = r'D:\\Dropbox\\AcademiaDropbox\\mothMachineLearning_dataAndFigs\\savedModels'\n",
    "randomRawData = r'D:/Dropbox/AcademiaDropbox/mothMachineLearning_dataAndFigs/PythonGeneratedData'\n",
    "\n",
    "if not os.path.exists(dataOutput):\n",
    "    os.mkdir(dataOutput)\n",
    "if not os.path.exists(savedModels):\n",
    "    os.mkdir(savedModels)\n",
    "\n",
    "print(sys.version)\n",
    "now = datetime.now()\n",
    "print(\"last run on \" + str(now))"
   ]
  },
  {
   "cell_type": "code",
   "execution_count": 24,
   "metadata": {},
   "outputs": [
    {
     "data": {
      "text/plain": [
       "(26, 28)"
      ]
     },
     "execution_count": 24,
     "metadata": {},
     "output_type": "execute_result"
    }
   ],
   "source": [
    "# Load data\n",
    "pathDF = pd.read_csv(os.path.join(dataOutput, \"PredictedTraj2.csv\"))\n",
    "pathDF.shape"
   ]
  },
  {
   "cell_type": "code",
   "execution_count": 25,
   "metadata": {},
   "outputs": [
    {
     "name": "stdout",
     "output_type": "stream",
     "text": [
      "(25, 28)\n"
     ]
    },
    {
     "data": {
      "text/html": [
       "<div>\n",
       "<style scoped>\n",
       "    .dataframe tbody tr th:only-of-type {\n",
       "        vertical-align: middle;\n",
       "    }\n",
       "\n",
       "    .dataframe tbody tr th {\n",
       "        vertical-align: top;\n",
       "    }\n",
       "\n",
       "    .dataframe thead th {\n",
       "        text-align: right;\n",
       "    }\n",
       "</style>\n",
       "<table border=\"1\" class=\"dataframe\">\n",
       "  <thead>\n",
       "    <tr style=\"text-align: right;\">\n",
       "      <th></th>\n",
       "      <th>tsteps</th>\n",
       "      <th>signal</th>\n",
       "      <th>x_0</th>\n",
       "      <th>x_99</th>\n",
       "      <th>y_0</th>\n",
       "      <th>y_99</th>\n",
       "      <th>theta_0</th>\n",
       "      <th>theta_99</th>\n",
       "      <th>phi_0</th>\n",
       "      <th>phi_99</th>\n",
       "      <th>...</th>\n",
       "      <th>xd_99_actual</th>\n",
       "      <th>y_99_actual</th>\n",
       "      <th>yd_99_actual</th>\n",
       "      <th>theta_99_actual</th>\n",
       "      <th>thetad_99_actual</th>\n",
       "      <th>phi_99_actual</th>\n",
       "      <th>phid_99_actual</th>\n",
       "      <th>F_pred</th>\n",
       "      <th>alpha_pred</th>\n",
       "      <th>quadrant</th>\n",
       "    </tr>\n",
       "  </thead>\n",
       "  <tbody>\n",
       "    <tr>\n",
       "      <th>1</th>\n",
       "      <td>0.02</td>\n",
       "      <td>2.486899</td>\n",
       "      <td>0.0</td>\n",
       "      <td>0.0</td>\n",
       "      <td>0.0</td>\n",
       "      <td>2.486899</td>\n",
       "      <td>0.785398</td>\n",
       "      <td>0.785398</td>\n",
       "      <td>3.926991</td>\n",
       "      <td>3.926991</td>\n",
       "      <td>...</td>\n",
       "      <td>0</td>\n",
       "      <td>0</td>\n",
       "      <td>0</td>\n",
       "      <td>0</td>\n",
       "      <td>0</td>\n",
       "      <td>0</td>\n",
       "      <td>0</td>\n",
       "      <td>14022.815479</td>\n",
       "      <td>1.174873</td>\n",
       "      <td>1</td>\n",
       "    </tr>\n",
       "    <tr>\n",
       "      <th>2</th>\n",
       "      <td>0.04</td>\n",
       "      <td>4.817537</td>\n",
       "      <td>0.0</td>\n",
       "      <td>0.0</td>\n",
       "      <td>0.0</td>\n",
       "      <td>2.330638</td>\n",
       "      <td>0.785398</td>\n",
       "      <td>0.785398</td>\n",
       "      <td>3.926991</td>\n",
       "      <td>3.926991</td>\n",
       "      <td>...</td>\n",
       "      <td>0</td>\n",
       "      <td>0</td>\n",
       "      <td>0</td>\n",
       "      <td>0</td>\n",
       "      <td>0</td>\n",
       "      <td>0</td>\n",
       "      <td>0</td>\n",
       "      <td>12486.833718</td>\n",
       "      <td>1.206250</td>\n",
       "      <td>1</td>\n",
       "    </tr>\n",
       "    <tr>\n",
       "      <th>3</th>\n",
       "      <td>0.06</td>\n",
       "      <td>6.845471</td>\n",
       "      <td>0.0</td>\n",
       "      <td>0.0</td>\n",
       "      <td>0.0</td>\n",
       "      <td>2.027934</td>\n",
       "      <td>0.785398</td>\n",
       "      <td>0.785398</td>\n",
       "      <td>3.926991</td>\n",
       "      <td>3.926991</td>\n",
       "      <td>...</td>\n",
       "      <td>0</td>\n",
       "      <td>0</td>\n",
       "      <td>0</td>\n",
       "      <td>0</td>\n",
       "      <td>0</td>\n",
       "      <td>0</td>\n",
       "      <td>0</td>\n",
       "      <td>10318.933887</td>\n",
       "      <td>1.265749</td>\n",
       "      <td>1</td>\n",
       "    </tr>\n",
       "    <tr>\n",
       "      <th>4</th>\n",
       "      <td>0.08</td>\n",
       "      <td>8.443279</td>\n",
       "      <td>0.0</td>\n",
       "      <td>0.0</td>\n",
       "      <td>0.0</td>\n",
       "      <td>1.597808</td>\n",
       "      <td>0.785398</td>\n",
       "      <td>0.785398</td>\n",
       "      <td>3.926991</td>\n",
       "      <td>3.926991</td>\n",
       "      <td>...</td>\n",
       "      <td>0</td>\n",
       "      <td>0</td>\n",
       "      <td>0</td>\n",
       "      <td>0</td>\n",
       "      <td>0</td>\n",
       "      <td>0</td>\n",
       "      <td>0</td>\n",
       "      <td>7705.878920</td>\n",
       "      <td>1.383812</td>\n",
       "      <td>1</td>\n",
       "    </tr>\n",
       "    <tr>\n",
       "      <th>5</th>\n",
       "      <td>0.10</td>\n",
       "      <td>9.510565</td>\n",
       "      <td>0.0</td>\n",
       "      <td>0.0</td>\n",
       "      <td>0.0</td>\n",
       "      <td>1.067286</td>\n",
       "      <td>0.785398</td>\n",
       "      <td>0.785398</td>\n",
       "      <td>3.926991</td>\n",
       "      <td>3.926991</td>\n",
       "      <td>...</td>\n",
       "      <td>0</td>\n",
       "      <td>0</td>\n",
       "      <td>0</td>\n",
       "      <td>0</td>\n",
       "      <td>0</td>\n",
       "      <td>0</td>\n",
       "      <td>0</td>\n",
       "      <td>5014.633491</td>\n",
       "      <td>1.661547</td>\n",
       "      <td>2</td>\n",
       "    </tr>\n",
       "  </tbody>\n",
       "</table>\n",
       "<p>5 rows × 28 columns</p>\n",
       "</div>"
      ],
      "text/plain": [
       "   tsteps    signal  x_0  x_99  y_0      y_99   theta_0  theta_99     phi_0  \\\n",
       "1    0.02  2.486899  0.0   0.0  0.0  2.486899  0.785398  0.785398  3.926991   \n",
       "2    0.04  4.817537  0.0   0.0  0.0  2.330638  0.785398  0.785398  3.926991   \n",
       "3    0.06  6.845471  0.0   0.0  0.0  2.027934  0.785398  0.785398  3.926991   \n",
       "4    0.08  8.443279  0.0   0.0  0.0  1.597808  0.785398  0.785398  3.926991   \n",
       "5    0.10  9.510565  0.0   0.0  0.0  1.067286  0.785398  0.785398  3.926991   \n",
       "\n",
       "     phi_99    ...     xd_99_actual  y_99_actual  yd_99_actual  \\\n",
       "1  3.926991    ...                0            0             0   \n",
       "2  3.926991    ...                0            0             0   \n",
       "3  3.926991    ...                0            0             0   \n",
       "4  3.926991    ...                0            0             0   \n",
       "5  3.926991    ...                0            0             0   \n",
       "\n",
       "   theta_99_actual  thetad_99_actual  phi_99_actual  phid_99_actual  \\\n",
       "1                0                 0              0               0   \n",
       "2                0                 0              0               0   \n",
       "3                0                 0              0               0   \n",
       "4                0                 0              0               0   \n",
       "5                0                 0              0               0   \n",
       "\n",
       "         F_pred  alpha_pred  quadrant  \n",
       "1  14022.815479    1.174873         1  \n",
       "2  12486.833718    1.206250         1  \n",
       "3  10318.933887    1.265749         1  \n",
       "4   7705.878920    1.383812         1  \n",
       "5   5014.633491    1.661547         2  \n",
       "\n",
       "[5 rows x 28 columns]"
      ]
     },
     "execution_count": 25,
     "metadata": {},
     "output_type": "execute_result"
    }
   ],
   "source": [
    "# remove first row (has NA)\n",
    "pathDF.drop(pathDF.index[0], inplace = True)\n",
    "print(pathDF.shape)\n",
    "pathDF.head()\n"
   ]
  },
  {
   "cell_type": "markdown",
   "metadata": {},
   "source": [
    "___"
   ]
  },
  {
   "cell_type": "markdown",
   "metadata": {},
   "source": [
    "# Loop Version "
   ]
  },
  {
   "cell_type": "code",
   "execution_count": 26,
   "metadata": {},
   "outputs": [
    {
     "name": "stdout",
     "output_type": "stream",
     "text": [
      "0\n",
      "elapsed time =  0.02293848991394043\n",
      "elapsed time =  0.41489315032958984\n"
     ]
    }
   ],
   "source": [
    "# put data into correct order\n",
    "# x,xd,y,yd,\n",
    "# theta,thetad,phi,phid, \n",
    "# F, alpha, tau0\n",
    "\n",
    "\n",
    "tic = time.time()\n",
    "t = np.linspace(0, 0.02, num = 100, endpoint = False) # time cut into 100 timesteps\n",
    "nrun = pathDF.shape[0]  #number of trajectories.\n",
    "\n",
    "# pre-allocate arrays to fill\n",
    "nstep = 100\n",
    "zeroMatrix = np.zeros([nrun, nstep])\n",
    "x,      xd,    y,   yd, \\\n",
    "theta, thetad, phi, phid = [zeroMatrix.copy() for ii in \n",
    "                                range(len([ \"x\",     \"xd\",     \"y\", \"yd\", \n",
    "                                            \"theta\", \"thetad\", \"phi\", \"phid\"]))]\n",
    "\n",
    "# generate  initial conditions for state 0\n",
    "state01 = np.array(pathDF[[\"x_0\", \"x_dot_0\", \"y_0\", \"y_dot_0\", \n",
    "           \"theta_0\", \"theta_dot_0\", \"phi_0\", \"phi_dot_0\", \n",
    "           \"F_pred\", \"alpha_pred\", \"tau_pred\"]])\n",
    "\n",
    "# loop through all the runs\n",
    "for i in range(0,nrun):\n",
    "    # run ODE\n",
    "    state = odeint(multiProcTraj.FlyTheBug, state01[i, :], t)\n",
    "    x[i,:], xd[i,:] = state[:,0], state[:,1]\n",
    "    y[i,:], yd[i, :] = state[:,2], state[:,3]\n",
    "    theta[i,:], thetad[i, :] = state[:,4],state[:,5]\n",
    "    phi[i,:], phid[i, :] = state[:, 6], state[:,7]\n",
    "    \n",
    "    if(np.mod(i, 1000) == 0):\n",
    "        print(i)\n",
    "        print('elapsed time = ',time.time()-tic)\n",
    "print('elapsed time = ',time.time()-tic)"
   ]
  },
  {
   "cell_type": "code",
   "execution_count": 27,
   "metadata": {},
   "outputs": [
    {
     "data": {
      "text/plain": [
       "(25, 100)"
      ]
     },
     "execution_count": 27,
     "metadata": {},
     "output_type": "execute_result"
    }
   ],
   "source": [
    "x.shape"
   ]
  },
  {
   "cell_type": "code",
   "execution_count": 28,
   "metadata": {},
   "outputs": [
    {
     "data": {
      "text/plain": [
       "(25, 11)"
      ]
     },
     "execution_count": 28,
     "metadata": {},
     "output_type": "execute_result"
    }
   ],
   "source": [
    "state01.shape"
   ]
  },
  {
   "cell_type": "code",
   "execution_count": 29,
   "metadata": {},
   "outputs": [
    {
     "data": {
      "image/png": "[encoded data removed]",
      "text/plain": [
       "<matplotlib.figure.Figure at 0x1d02e82cf98>"
      ]
     },
     "metadata": {},
     "output_type": "display_data"
    }
   ],
   "source": [
    "plt.figure()\n",
    "for i in range(0,nrun):\n",
    "    plt.plot(x[i, :],y[i, :], label = 'trajectory x vs y')"
   ]
  },
  {
   "cell_type": "code",
   "execution_count": 30,
   "metadata": {},
   "outputs": [],
   "source": [
    "# get errors and correct with nnet"
   ]
  },
  {
   "cell_type": "code",
   "execution_count": 31,
   "metadata": {},
   "outputs": [],
   "source": [
    "# get final states\n",
    "x_f_sim = x[:, -1]\n",
    "xd_f_sim = xd[:, -1]\n",
    "\n",
    "y_f_sim = y[:, -1]\n",
    "yd_f_sim = yd[:, -1]\n",
    "\n",
    "theta_f_sim = theta[:, -1]\n",
    "thetad_f_sim = thetad[:, -1]\n",
    "\n",
    "phi_f_sim = phi[:, -1]\n",
    "phid_f_sim = phid[:, -1]"
   ]
  },
  {
   "cell_type": "code",
   "execution_count": 32,
   "metadata": {},
   "outputs": [
    {
     "data": {
      "text/html": [
       "<div>\n",
       "<style scoped>\n",
       "    .dataframe tbody tr th:only-of-type {\n",
       "        vertical-align: middle;\n",
       "    }\n",
       "\n",
       "    .dataframe tbody tr th {\n",
       "        vertical-align: top;\n",
       "    }\n",
       "\n",
       "    .dataframe thead th {\n",
       "        text-align: right;\n",
       "    }\n",
       "</style>\n",
       "<table border=\"1\" class=\"dataframe\">\n",
       "  <thead>\n",
       "    <tr style=\"text-align: right;\">\n",
       "      <th></th>\n",
       "      <th>tsteps</th>\n",
       "      <th>signal</th>\n",
       "      <th>x_0</th>\n",
       "      <th>x_99</th>\n",
       "      <th>y_0</th>\n",
       "      <th>y_99</th>\n",
       "      <th>theta_0</th>\n",
       "      <th>theta_99</th>\n",
       "      <th>phi_0</th>\n",
       "      <th>phi_99</th>\n",
       "      <th>...</th>\n",
       "      <th>y_99_actual</th>\n",
       "      <th>yd_99_actual</th>\n",
       "      <th>theta_99_actual</th>\n",
       "      <th>thetad_99_actual</th>\n",
       "      <th>phi_99_actual</th>\n",
       "      <th>phid_99_actual</th>\n",
       "      <th>F_pred</th>\n",
       "      <th>alpha_pred</th>\n",
       "      <th>quadrant</th>\n",
       "      <th>x_99_sim</th>\n",
       "    </tr>\n",
       "  </thead>\n",
       "  <tbody>\n",
       "    <tr>\n",
       "      <th>1</th>\n",
       "      <td>0.02</td>\n",
       "      <td>2.486899</td>\n",
       "      <td>0.0</td>\n",
       "      <td>0.0</td>\n",
       "      <td>0.0</td>\n",
       "      <td>2.486899</td>\n",
       "      <td>0.785398</td>\n",
       "      <td>0.785398</td>\n",
       "      <td>3.926991</td>\n",
       "      <td>3.926991</td>\n",
       "      <td>...</td>\n",
       "      <td>0</td>\n",
       "      <td>0</td>\n",
       "      <td>0</td>\n",
       "      <td>0</td>\n",
       "      <td>0</td>\n",
       "      <td>0</td>\n",
       "      <td>14022.815479</td>\n",
       "      <td>1.174873</td>\n",
       "      <td>1</td>\n",
       "      <td>-1.004802</td>\n",
       "    </tr>\n",
       "    <tr>\n",
       "      <th>2</th>\n",
       "      <td>0.04</td>\n",
       "      <td>4.817537</td>\n",
       "      <td>0.0</td>\n",
       "      <td>0.0</td>\n",
       "      <td>0.0</td>\n",
       "      <td>2.330638</td>\n",
       "      <td>0.785398</td>\n",
       "      <td>0.785398</td>\n",
       "      <td>3.926991</td>\n",
       "      <td>3.926991</td>\n",
       "      <td>...</td>\n",
       "      <td>0</td>\n",
       "      <td>0</td>\n",
       "      <td>0</td>\n",
       "      <td>0</td>\n",
       "      <td>0</td>\n",
       "      <td>0</td>\n",
       "      <td>12486.833718</td>\n",
       "      <td>1.206250</td>\n",
       "      <td>1</td>\n",
       "      <td>-2.717447</td>\n",
       "    </tr>\n",
       "    <tr>\n",
       "      <th>3</th>\n",
       "      <td>0.06</td>\n",
       "      <td>6.845471</td>\n",
       "      <td>0.0</td>\n",
       "      <td>0.0</td>\n",
       "      <td>0.0</td>\n",
       "      <td>2.027934</td>\n",
       "      <td>0.785398</td>\n",
       "      <td>0.785398</td>\n",
       "      <td>3.926991</td>\n",
       "      <td>3.926991</td>\n",
       "      <td>...</td>\n",
       "      <td>0</td>\n",
       "      <td>0</td>\n",
       "      <td>0</td>\n",
       "      <td>0</td>\n",
       "      <td>0</td>\n",
       "      <td>0</td>\n",
       "      <td>10318.933887</td>\n",
       "      <td>1.265749</td>\n",
       "      <td>1</td>\n",
       "      <td>-2.642827</td>\n",
       "    </tr>\n",
       "    <tr>\n",
       "      <th>4</th>\n",
       "      <td>0.08</td>\n",
       "      <td>8.443279</td>\n",
       "      <td>0.0</td>\n",
       "      <td>0.0</td>\n",
       "      <td>0.0</td>\n",
       "      <td>1.597808</td>\n",
       "      <td>0.785398</td>\n",
       "      <td>0.785398</td>\n",
       "      <td>3.926991</td>\n",
       "      <td>3.926991</td>\n",
       "      <td>...</td>\n",
       "      <td>0</td>\n",
       "      <td>0</td>\n",
       "      <td>0</td>\n",
       "      <td>0</td>\n",
       "      <td>0</td>\n",
       "      <td>0</td>\n",
       "      <td>7705.878920</td>\n",
       "      <td>1.383812</td>\n",
       "      <td>1</td>\n",
       "      <td>-2.544642</td>\n",
       "    </tr>\n",
       "    <tr>\n",
       "      <th>5</th>\n",
       "      <td>0.10</td>\n",
       "      <td>9.510565</td>\n",
       "      <td>0.0</td>\n",
       "      <td>0.0</td>\n",
       "      <td>0.0</td>\n",
       "      <td>1.067286</td>\n",
       "      <td>0.785398</td>\n",
       "      <td>0.785398</td>\n",
       "      <td>3.926991</td>\n",
       "      <td>3.926991</td>\n",
       "      <td>...</td>\n",
       "      <td>0</td>\n",
       "      <td>0</td>\n",
       "      <td>0</td>\n",
       "      <td>0</td>\n",
       "      <td>0</td>\n",
       "      <td>0</td>\n",
       "      <td>5014.633491</td>\n",
       "      <td>1.661547</td>\n",
       "      <td>2</td>\n",
       "      <td>-2.428850</td>\n",
       "    </tr>\n",
       "  </tbody>\n",
       "</table>\n",
       "<p>5 rows × 29 columns</p>\n",
       "</div>"
      ],
      "text/plain": [
       "   tsteps    signal  x_0  x_99  y_0      y_99   theta_0  theta_99     phi_0  \\\n",
       "1    0.02  2.486899  0.0   0.0  0.0  2.486899  0.785398  0.785398  3.926991   \n",
       "2    0.04  4.817537  0.0   0.0  0.0  2.330638  0.785398  0.785398  3.926991   \n",
       "3    0.06  6.845471  0.0   0.0  0.0  2.027934  0.785398  0.785398  3.926991   \n",
       "4    0.08  8.443279  0.0   0.0  0.0  1.597808  0.785398  0.785398  3.926991   \n",
       "5    0.10  9.510565  0.0   0.0  0.0  1.067286  0.785398  0.785398  3.926991   \n",
       "\n",
       "     phi_99    ...     y_99_actual  yd_99_actual  theta_99_actual  \\\n",
       "1  3.926991    ...               0             0                0   \n",
       "2  3.926991    ...               0             0                0   \n",
       "3  3.926991    ...               0             0                0   \n",
       "4  3.926991    ...               0             0                0   \n",
       "5  3.926991    ...               0             0                0   \n",
       "\n",
       "   thetad_99_actual  phi_99_actual  phid_99_actual        F_pred  alpha_pred  \\\n",
       "1                 0              0               0  14022.815479    1.174873   \n",
       "2                 0              0               0  12486.833718    1.206250   \n",
       "3                 0              0               0  10318.933887    1.265749   \n",
       "4                 0              0               0   7705.878920    1.383812   \n",
       "5                 0              0               0   5014.633491    1.661547   \n",
       "\n",
       "   quadrant  x_99_sim  \n",
       "1         1 -1.004802  \n",
       "2         1 -2.717447  \n",
       "3         1 -2.642827  \n",
       "4         1 -2.544642  \n",
       "5         2 -2.428850  \n",
       "\n",
       "[5 rows x 29 columns]"
      ]
     },
     "execution_count": 32,
     "metadata": {},
     "output_type": "execute_result"
    }
   ],
   "source": [
    "pathDF[\"x_99_sim\"] = x_f_sim\n",
    "pathDF.head()"
   ]
  },
  {
   "cell_type": "code",
   "execution_count": 33,
   "metadata": {},
   "outputs": [
    {
     "data": {
      "text/plain": [
       "[<matplotlib.lines.Line2D at 0x1d02e915630>]"
      ]
     },
     "execution_count": 33,
     "metadata": {},
     "output_type": "execute_result"
    },
    {
     "data": {
      "image/png": "[encoded data removed]",
      "text/plain": [
       "<matplotlib.figure.Figure at 0x1d02e7f95c0>"
      ]
     },
     "metadata": {},
     "output_type": "display_data"
    }
   ],
   "source": [
    "plt.plot(pathDF.tsteps, np.cumsum(y_f_sim))\n",
    "plt.plot(pathDF.tsteps,pathDF.signal)"
   ]
  },
  {
   "cell_type": "code",
   "execution_count": null,
   "metadata": {},
   "outputs": [],
   "source": []
  },
  {
   "cell_type": "code",
   "execution_count": null,
   "metadata": {},
   "outputs": [],
   "source": []
  },
  {
   "cell_type": "code",
   "execution_count": null,
   "metadata": {},
   "outputs": [],
   "source": []
  },
  {
   "cell_type": "code",
   "execution_count": null,
   "metadata": {},
   "outputs": [],
   "source": []
  },
  {
   "cell_type": "code",
   "execution_count": null,
   "metadata": {},
   "outputs": [],
   "source": []
  },
  {
   "cell_type": "code",
   "execution_count": null,
   "metadata": {},
   "outputs": [],
   "source": []
  },
  {
   "cell_type": "code",
   "execution_count": null,
   "metadata": {},
   "outputs": [],
   "source": []
  },
  {
   "cell_type": "code",
   "execution_count": null,
   "metadata": {},
   "outputs": [],
   "source": [
    "combDF = testDF.head(100000).copy()"
   ]
  },
  {
   "cell_type": "code",
   "execution_count": null,
   "metadata": {},
   "outputs": [],
   "source": [
    "combDF = combDF.assign(x_99_sim = x_f_sim, \n",
    "                      y_99_sim = y_f_sim, \n",
    "                      theta_99_sim = theta_f_sim, \n",
    "                      phi_99_sim = phi_f_sim, \n",
    "                      xd_99_sim = xd_f_sim, \n",
    "                      yd_99_sim = yd_f_sim, \n",
    "                      thetad_99_sim = thetad_f_sim, \n",
    "                      phid_99_sim = phid_f_sim) "
   ]
  },
  {
   "cell_type": "code",
   "execution_count": null,
   "metadata": {},
   "outputs": [],
   "source": [
    "combDF.head()"
   ]
  },
  {
   "cell_type": "code",
   "execution_count": null,
   "metadata": {},
   "outputs": [],
   "source": [
    "combDF.to_csv(os.path.join(dataOutput, \"SimVsNNet_Locations_100K.csv\"), index = False)"
   ]
  },
  {
   "cell_type": "markdown",
   "metadata": {},
   "source": [
    "___"
   ]
  },
  {
   "cell_type": "markdown",
   "metadata": {},
   "source": [
    "# parallel version"
   ]
  },
  {
   "cell_type": "markdown",
   "metadata": {},
   "source": [
    "The data is read in in multiProcTraj.py"
   ]
  },
  {
   "cell_type": "code",
   "execution_count": null,
   "metadata": {},
   "outputs": [],
   "source": [
    "# put data into correct order\n",
    "# x,xd,y,yd,\n",
    "# theta,thetad,phi,phid, \n",
    "# F, alpha, tau0\n",
    "\n",
    "nrun = 1000000\n",
    "\n",
    "tic = time.time()\n",
    "# loop through all the runs\n",
    "\n",
    "p = Pool(cpu_count()-3)\n",
    "stt = time.time()   \n",
    "bb = p.map(multiProcTraj.flyBug_firstLast_test, range(nrun) ) \n",
    "print(time.time() -stt)\n",
    "\n",
    "p.close()\n",
    "p.join()\n",
    "print(time.time() -stt)\n",
    "newDF = pd.DataFrame(bb, columns= [\"x0\", \"x_99_sim\", \"xd0\", \"xd_99_sim\", \"y0\", \"y_99_sim\", \"yd0\", \"yd_99_sim\", \"theta0\", \\\n",
    "        \"theta_99_sim\", \"thetad0\", \"thetad_99_sim\", \"phi0\", \"phi_99_sim\", \"phid0\", \"phid_99_sim\", \"F\", \"alpha\", \"tau0\"])\n",
    "print('elapsed time = ',time.time()-tic)"
   ]
  },
  {
   "cell_type": "code",
   "execution_count": null,
   "metadata": {},
   "outputs": [],
   "source": [
    "print(newDF.shape)\n",
    "\n",
    "newDF.head()"
   ]
  },
  {
   "cell_type": "code",
   "execution_count": null,
   "metadata": {},
   "outputs": [],
   "source": [
    "# align newDF with old DF\n",
    "testDF.head()"
   ]
  },
  {
   "cell_type": "code",
   "execution_count": null,
   "metadata": {},
   "outputs": [],
   "source": [
    "combDF = newDF.merge(testDF.head(nrun), left_on=[\"F\", \"alpha\", \"tau0\"], right_on=[\"F_pred\", \"alpha_pred\", \"tau_pred\"])"
   ]
  },
  {
   "cell_type": "code",
   "execution_count": null,
   "metadata": {},
   "outputs": [],
   "source": [
    "print(combDF.shape)\n",
    "combDF.head()"
   ]
  },
  {
   "cell_type": "code",
   "execution_count": null,
   "metadata": {},
   "outputs": [],
   "source": [
    "# save combined DF\n",
    "combDF.to_csv(os.path.join(dataOutput, \"SimVsNNet_Locations_Full.csv\"), index = False)"
   ]
  },
  {
   "cell_type": "code",
   "execution_count": null,
   "metadata": {},
   "outputs": [],
   "source": []
  }
 ],
 "metadata": {
  "celltoolbar": "Raw Cell Format",
  "kernelspec": {
   "display_name": "numSolve",
   "language": "python",
   "name": "numsolve"
  },
  "language_info": {
   "codemirror_mode": {
    "name": "ipython",
    "version": 3
   },
   "file_extension": ".py",
   "mimetype": "text/x-python",
   "name": "python",
   "nbconvert_exporter": "python",
   "pygments_lexer": "ipython3",
   "version": "3.6.6"
  }
 },
 "nbformat": 4,
 "nbformat_minor": 2
}
