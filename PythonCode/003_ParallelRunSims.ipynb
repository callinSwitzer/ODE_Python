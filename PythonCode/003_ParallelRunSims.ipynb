{
 "cells": [
  {
   "cell_type": "markdown",
   "metadata": {},
   "source": [
    "## Callin Switzer\n",
    "10 Dec 2018\n",
    "### Modified TLD script for running simulation"
   ]
  },
  {
   "cell_type": "raw",
   "metadata": {},
   "source": [
    "#  Jorge BugBuster\n",
    "###  This is a quick look at Jorge's ODE system for the abdo-flex model.  WHOA... be sure to use cgs (centimeter, gram, seconds) system!\n",
    "###  TLD -- based on Code from Jorge Bustamante 2018\n",
    "###    Python modification of Matlab code.  \n",
    "###    updated: 29 Nov. 2018\n",
    "### Updated 1 April 2019"
   ]
  },
  {
   "cell_type": "code",
   "execution_count": 1,
   "metadata": {},
   "outputs": [
    {
     "name": "stdout",
     "output_type": "stream",
     "text": [
      "3.6.7 (default, Feb 28 2019, 07:28:18) [MSC v.1900 64 bit (AMD64)]\n"
     ]
    }
   ],
   "source": [
    "import matplotlib.pyplot as plt\n",
    "%matplotlib inline\n",
    "import numpy as np\n",
    "import os\n",
    "import pandas as pd\n",
    "import seaborn as sns\n",
    "from scipy.integrate import odeint\n",
    "import random\n",
    "import time\n",
    "from datetime import datetime\n",
    "import sys\n",
    "from multiprocessing import Pool, cpu_count\n",
    "import multiProcTraj # note that this is a custom-written file \n",
    "\n",
    "print(sys.version)"
   ]
  },
  {
   "cell_type": "code",
   "execution_count": 9,
   "metadata": {},
   "outputs": [
    {
     "name": "stdout",
     "output_type": "stream",
     "text": [
      "last run on 2019-04-03 08:27:16.440969\n"
     ]
    }
   ],
   "source": [
    "now = datetime.now()\n",
    "print(\"last run on \" + str(now))\n",
    "\n",
    "# define directories\n",
    "baseDir = os.getcwd()\n",
    "dataDir = r'D:\\MothSimulations\\11c-AggressiveManeuver\\Qstore\\hws_am_con'\n",
    "figDir = r'D:\\Dropbox\\AcademiaDropbox\\mothMachineLearning_dataAndFigs\\Figs'\n",
    "dataOutput = r'D:\\Dropbox\\AcademiaDropbox\\mothMachineLearning_dataAndFigs\\DataOutput'\n",
    "savedModels = r'D:\\Dropbox\\AcademiaDropbox\\mothMachineLearning_dataAndFigs\\savedModels'\n",
    "pythonMadeData = r\"D:/Dropbox/AcademiaDropbox/mothMachineLearning_dataAndFigs/PythonGeneratedData/TestData\"\n",
    "\n",
    "if not os.path.exists(dataOutput):\n",
    "    os.mkdir(dataOutput)\n",
    "    \n",
    "if not os.path.exists(savedModels):\n",
    "    os.mkdir(savedModels)"
   ]
  },
  {
   "cell_type": "code",
   "execution_count": 3,
   "metadata": {},
   "outputs": [
    {
     "name": "stdout",
     "output_type": "stream",
     "text": [
      "13.123126745223999\n",
      "13.566882610321045\n"
     ]
    }
   ],
   "source": [
    "# parallel run of simulations -- this generates approximately 1 million simulations per hour\n",
    "p = Pool(cpu_count()-1)\n",
    "stt = time.time()   \n",
    "# bb = p.map(multiProcTraj.flyBug_firstLast, range(100000) ) \n",
    "bb = p.map(multiProcTraj.flyBug_firstLast, range(100000) ) \n",
    "print(time.time() -stt)\n",
    "\n",
    "p.close()\n",
    "p.join()\n",
    "print(time.time() -stt)"
   ]
  },
  {
   "cell_type": "code",
   "execution_count": 4,
   "metadata": {},
   "outputs": [
    {
     "name": "stdout",
     "output_type": "stream",
     "text": [
      "12.208239555358887\n",
      "12.695435762405396\n"
     ]
    }
   ],
   "source": [
    "import importlib\n",
    "importlib.reload(multiProcTraj)\n",
    "# parallel run of simulations -- this generates approximately 1 million simulations per hour\n",
    "p = Pool(cpu_count()-1)\n",
    "stt = time.time()   \n",
    "# bb = p.map(multiProcTraj.flyBug_firstLast, range(100000) ) \n",
    "bb = p.map(multiProcTraj.flyBug_firstLast, range(100000) ) \n",
    "print(time.time() -stt)\n",
    "\n",
    "p.close()\n",
    "p.join()\n",
    "print(time.time() -stt)"
   ]
  },
  {
   "cell_type": "code",
   "execution_count": 5,
   "metadata": {},
   "outputs": [
    {
     "data": {
      "text/plain": [
       "100000"
      ]
     },
     "execution_count": 5,
     "metadata": {},
     "output_type": "execute_result"
    }
   ],
   "source": [
    "len(bb)"
   ]
  },
  {
   "cell_type": "code",
   "execution_count": 4,
   "metadata": {},
   "outputs": [
    {
     "data": {
      "text/html": [
       "<div>\n",
       "<style scoped>\n",
       "    .dataframe tbody tr th:only-of-type {\n",
       "        vertical-align: middle;\n",
       "    }\n",
       "\n",
       "    .dataframe tbody tr th {\n",
       "        vertical-align: top;\n",
       "    }\n",
       "\n",
       "    .dataframe thead th {\n",
       "        text-align: right;\n",
       "    }\n",
       "</style>\n",
       "<table border=\"1\" class=\"dataframe\">\n",
       "  <thead>\n",
       "    <tr style=\"text-align: right;\">\n",
       "      <th></th>\n",
       "      <th>x0</th>\n",
       "      <th>xf</th>\n",
       "      <th>xd0</th>\n",
       "      <th>xdf</th>\n",
       "      <th>y0</th>\n",
       "      <th>yf</th>\n",
       "      <th>yd0</th>\n",
       "      <th>ydf</th>\n",
       "      <th>theta0</th>\n",
       "      <th>thetaf</th>\n",
       "      <th>thetad0</th>\n",
       "      <th>thetadf</th>\n",
       "      <th>phi0</th>\n",
       "      <th>phif</th>\n",
       "      <th>phid0</th>\n",
       "      <th>phidf</th>\n",
       "      <th>F</th>\n",
       "      <th>alpha</th>\n",
       "      <th>tau0</th>\n",
       "    </tr>\n",
       "  </thead>\n",
       "  <tbody>\n",
       "    <tr>\n",
       "      <th>0</th>\n",
       "      <td>0.0</td>\n",
       "      <td>22.830521</td>\n",
       "      <td>1165.731125</td>\n",
       "      <td>1111.185990</td>\n",
       "      <td>0.0</td>\n",
       "      <td>9.479632</td>\n",
       "      <td>548.341610</td>\n",
       "      <td>402.771340</td>\n",
       "      <td>2.463178</td>\n",
       "      <td>2.249960</td>\n",
       "      <td>9.227599</td>\n",
       "      <td>-30.092587</td>\n",
       "      <td>3.797571</td>\n",
       "      <td>3.525439</td>\n",
       "      <td>4.244824</td>\n",
       "      <td>-33.028737</td>\n",
       "      <td>5587.111101</td>\n",
       "      <td>2.010271</td>\n",
       "      <td>41546.360300</td>\n",
       "    </tr>\n",
       "    <tr>\n",
       "      <th>1</th>\n",
       "      <td>0.0</td>\n",
       "      <td>13.542966</td>\n",
       "      <td>596.092979</td>\n",
       "      <td>787.903972</td>\n",
       "      <td>0.0</td>\n",
       "      <td>6.065314</td>\n",
       "      <td>226.284075</td>\n",
       "      <td>335.991831</td>\n",
       "      <td>0.037011</td>\n",
       "      <td>-0.661923</td>\n",
       "      <td>21.794989</td>\n",
       "      <td>-72.931405</td>\n",
       "      <td>5.178752</td>\n",
       "      <td>4.596634</td>\n",
       "      <td>-5.883862</td>\n",
       "      <td>-67.103083</td>\n",
       "      <td>9074.881080</td>\n",
       "      <td>0.619931</td>\n",
       "      <td>-83382.397863</td>\n",
       "    </tr>\n",
       "    <tr>\n",
       "      <th>2</th>\n",
       "      <td>0.0</td>\n",
       "      <td>-14.907995</td>\n",
       "      <td>-790.415849</td>\n",
       "      <td>-767.178920</td>\n",
       "      <td>0.0</td>\n",
       "      <td>23.945437</td>\n",
       "      <td>1068.779375</td>\n",
       "      <td>1339.287292</td>\n",
       "      <td>1.992905</td>\n",
       "      <td>2.828466</td>\n",
       "      <td>-10.692300</td>\n",
       "      <td>92.640944</td>\n",
       "      <td>2.693884</td>\n",
       "      <td>3.622093</td>\n",
       "      <td>-10.356848</td>\n",
       "      <td>97.340644</td>\n",
       "      <td>11547.520247</td>\n",
       "      <td>5.633466</td>\n",
       "      <td>-64196.032339</td>\n",
       "    </tr>\n",
       "    <tr>\n",
       "      <th>3</th>\n",
       "      <td>0.0</td>\n",
       "      <td>-9.979807</td>\n",
       "      <td>-415.358687</td>\n",
       "      <td>-590.990542</td>\n",
       "      <td>0.0</td>\n",
       "      <td>27.469095</td>\n",
       "      <td>1484.066868</td>\n",
       "      <td>1310.023717</td>\n",
       "      <td>2.046643</td>\n",
       "      <td>1.265433</td>\n",
       "      <td>20.539237</td>\n",
       "      <td>-79.254848</td>\n",
       "      <td>3.047042</td>\n",
       "      <td>2.380063</td>\n",
       "      <td>1.544633</td>\n",
       "      <td>-73.488474</td>\n",
       "      <td>9799.388160</td>\n",
       "      <td>2.358707</td>\n",
       "      <td>-80826.798256</td>\n",
       "    </tr>\n",
       "    <tr>\n",
       "      <th>4</th>\n",
       "      <td>0.0</td>\n",
       "      <td>-29.227909</td>\n",
       "      <td>-1218.837096</td>\n",
       "      <td>-1716.616519</td>\n",
       "      <td>0.0</td>\n",
       "      <td>11.947615</td>\n",
       "      <td>534.279039</td>\n",
       "      <td>531.131761</td>\n",
       "      <td>3.428555</td>\n",
       "      <td>4.469265</td>\n",
       "      <td>-22.429867</td>\n",
       "      <td>116.660091</td>\n",
       "      <td>4.917151</td>\n",
       "      <td>5.921186</td>\n",
       "      <td>-9.030562</td>\n",
       "      <td>114.943526</td>\n",
       "      <td>23197.530705</td>\n",
       "      <td>5.699377</td>\n",
       "      <td>28089.535326</td>\n",
       "    </tr>\n",
       "  </tbody>\n",
       "</table>\n",
       "</div>"
      ],
      "text/plain": [
       "    x0         xf          xd0          xdf   y0         yf          yd0  \\\n",
       "0  0.0  22.830521  1165.731125  1111.185990  0.0   9.479632   548.341610   \n",
       "1  0.0  13.542966   596.092979   787.903972  0.0   6.065314   226.284075   \n",
       "2  0.0 -14.907995  -790.415849  -767.178920  0.0  23.945437  1068.779375   \n",
       "3  0.0  -9.979807  -415.358687  -590.990542  0.0  27.469095  1484.066868   \n",
       "4  0.0 -29.227909 -1218.837096 -1716.616519  0.0  11.947615   534.279039   \n",
       "\n",
       "           ydf    theta0    thetaf    thetad0     thetadf      phi0      phif  \\\n",
       "0   402.771340  2.463178  2.249960   9.227599  -30.092587  3.797571  3.525439   \n",
       "1   335.991831  0.037011 -0.661923  21.794989  -72.931405  5.178752  4.596634   \n",
       "2  1339.287292  1.992905  2.828466 -10.692300   92.640944  2.693884  3.622093   \n",
       "3  1310.023717  2.046643  1.265433  20.539237  -79.254848  3.047042  2.380063   \n",
       "4   531.131761  3.428555  4.469265 -22.429867  116.660091  4.917151  5.921186   \n",
       "\n",
       "       phid0       phidf             F     alpha          tau0  \n",
       "0   4.244824  -33.028737   5587.111101  2.010271  41546.360300  \n",
       "1  -5.883862  -67.103083   9074.881080  0.619931 -83382.397863  \n",
       "2 -10.356848   97.340644  11547.520247  5.633466 -64196.032339  \n",
       "3   1.544633  -73.488474   9799.388160  2.358707 -80826.798256  \n",
       "4  -9.030562  114.943526  23197.530705  5.699377  28089.535326  "
      ]
     },
     "execution_count": 4,
     "metadata": {},
     "output_type": "execute_result"
    }
   ],
   "source": [
    "# save data to csv\n",
    "newDF = pd.DataFrame(bb, columns= [\"x0\", \"xf\", \"xd0\", \"xdf\", \"y0\", \"yf\", \"yd0\", \"ydf\", \"theta0\", \\\n",
    "\"thetaf\", \"thetad0\", \"thetadf\", \"phi0\", \"phif\", \"phid0\", \"phidf\", \"F\", \"alpha\", \"tau0\"])\n",
    "\n",
    "\n",
    "newDF.head()"
   ]
  },
  {
   "cell_type": "code",
   "execution_count": 6,
   "metadata": {},
   "outputs": [
    {
     "name": "stdout",
     "output_type": "stream",
     "text": [
      "2019_04_03__08_26_13\n"
     ]
    }
   ],
   "source": [
    "tstamp = datetime.now().strftime(\"%Y_%m_%d__%H_%M_%S\")\n",
    "print(tstamp)"
   ]
  },
  {
   "cell_type": "code",
   "execution_count": 7,
   "metadata": {},
   "outputs": [
    {
     "data": {
      "text/plain": [
       "'D:/Dropbox/AcademiaDropbox/mothMachineLearning_dataAndFigs/PythonGeneratedData/TrainingData'"
      ]
     },
     "execution_count": 7,
     "metadata": {},
     "output_type": "execute_result"
    }
   ],
   "source": [
    "pythonMadeData"
   ]
  },
  {
   "cell_type": "code",
   "execution_count": 8,
   "metadata": {},
   "outputs": [],
   "source": [
    "newDF.to_csv(os.path.join(pythonMadeData, \n",
    "                          \"RandomInitCond_\" + tstamp + \".csv\"),\n",
    "             index = False)"
   ]
  },
  {
   "cell_type": "code",
   "execution_count": null,
   "metadata": {},
   "outputs": [],
   "source": [
    "# for loop to run parallel processes a few times\n",
    "\n",
    "for ii in range(8):\n",
    "    # parallel run of simulations -- this generates approximately 1 million simulations per hour\n",
    "    # this cell takes about an hour to run\n",
    "    p = Pool(cpu_count()-2)\n",
    "    stt = time.time()   \n",
    "    bb = p.map(multiProcTraj.flyBug_firstLast, range(100000) ) \n",
    "    print(time.time() -stt)\n",
    "\n",
    "    p.close()\n",
    "    p.join()\n",
    "    print(time.time() -stt)\n",
    "    newDF = pd.DataFrame(bb, columns= [\"x0\", \"xf\", \"xd0\", \"xdf\", \"y0\", \"yf\", \"yd0\", \"ydf\", \"theta0\", \\\n",
    "            \"thetaf\", \"thetad0\", \"thetadf\", \"phi0\", \"phif\", \"phid0\", \"phidf\", \"F\", \"alpha\", \"tau0\"])\n",
    "    \n",
    "    tstamp = datetime.now().strftime(\"%Y_%m_%d__%H_%M_%S\")\n",
    "    print(tstamp)\n",
    "    \n",
    "    newDF.to_csv(os.path.join(pythonMadeData, \n",
    "                          \"RandomInitCond_\" + tstamp + \".csv\"),\n",
    "             index = False)"
   ]
  },
  {
   "cell_type": "code",
   "execution_count": null,
   "metadata": {},
   "outputs": [],
   "source": [
    "# refref: one million simulations per 96 seconds?"
   ]
  },
  {
   "cell_type": "code",
   "execution_count": null,
   "metadata": {},
   "outputs": [],
   "source": []
  },
  {
   "cell_type": "code",
   "execution_count": 12,
   "metadata": {},
   "outputs": [
    {
     "name": "stdout",
     "output_type": "stream",
     "text": [
      "12.162487745285034\n",
      "12.490742206573486\n",
      "2019_04_03__09_09_05\n",
      "12.843693733215332\n",
      "13.21531867980957\n",
      "2019_04_03__09_09_21\n",
      "12.398885011672974\n",
      "12.816663980484009\n",
      "2019_04_03__09_09_36\n",
      "12.335026741027832\n",
      "12.67653751373291\n",
      "2019_04_03__09_09_51\n",
      "12.75293231010437\n",
      "13.077545166015625\n",
      "2019_04_03__09_10_07\n",
      "12.641257524490356\n",
      "12.986798763275146\n",
      "2019_04_03__09_10_22\n",
      "12.594366312026978\n",
      "12.906637191772461\n",
      "2019_04_03__09_10_38\n",
      "12.962374925613403\n",
      "13.358888387680054\n",
      "2019_04_03__09_10_53\n"
     ]
    }
   ],
   "source": [
    "# for loop to run parallel processes a few times\n",
    "for ii in range(8):\n",
    "    # parallel run of simulations -- this generates approximately 1 million simulations per hour\n",
    "    p = Pool(cpu_count()-4)\n",
    "    stt = time.time()   \n",
    "    bb = p.map(multiProcTraj.flyBug_firstLast, range(100000) ) \n",
    "    print(time.time() -stt)\n",
    "\n",
    "    p.close()\n",
    "    p.join()\n",
    "    print(time.time() -stt)\n",
    "    newDF = pd.DataFrame(bb, columns= [\"x0\", \"xf\", \"xd0\", \"xdf\", \"y0\", \"yf\", \"yd0\", \"ydf\", \"theta0\", \\\n",
    "            \"thetaf\", \"thetad0\", \"thetadf\", \"phi0\", \"phif\", \"phid0\", \"phidf\", \"F\", \"alpha\", \"tau0\"])\n",
    "    \n",
    "    tstamp = datetime.now().strftime(\"%Y_%m_%d__%H_%M_%S\")\n",
    "    print(tstamp)\n",
    "    \n",
    "    newDF.to_csv(os.path.join(pythonMadeData, \n",
    "                          \"RandomInitCond_\" + tstamp + \".csv\"),\n",
    "             index = False)"
   ]
  },
  {
   "cell_type": "code",
   "execution_count": 13,
   "metadata": {},
   "outputs": [
    {
     "name": "stdout",
     "output_type": "stream",
     "text": [
      "12.13159728050232\n",
      "12.538189172744751\n",
      "2019_04_03__09_11_08\n",
      "12.20437479019165\n",
      "12.658252239227295\n",
      "2019_04_03__09_11_23\n",
      "13.26476526260376\n",
      "13.637460947036743\n",
      "2019_04_03__09_11_40\n",
      "12.516233682632446\n",
      "12.997010231018066\n",
      "2019_04_03__09_11_55\n",
      "12.576408386230469\n",
      "12.994768857955933\n",
      "2019_04_03__09_12_11\n",
      "12.179470300674438\n",
      "12.567096948623657\n",
      "2019_04_03__09_12_26\n",
      "12.140573024749756\n",
      "12.533368110656738\n",
      "2019_04_03__09_12_41\n",
      "12.255273342132568\n",
      "12.656643867492676\n",
      "2019_04_03__09_12_56\n"
     ]
    }
   ],
   "source": [
    "# for loop to run parallel processes a few times\n",
    "\n",
    "for ii in range(8):\n",
    "    # parallel run of simulations -- this generates approximately 1 million simulations per hour\n",
    "    # this cell takes about an hour to run\n",
    "    p = Pool(cpu_count()-2)\n",
    "    stt = time.time()   \n",
    "    bb = p.map(multiProcTraj.flyBug_firstLast, range(100000) ) \n",
    "    print(time.time() -stt)\n",
    "\n",
    "    p.close()\n",
    "    p.join()\n",
    "    print(time.time() -stt)\n",
    "    newDF = pd.DataFrame(bb, columns= [\"x0\", \"xf\", \"xd0\", \"xdf\", \"y0\", \"yf\", \"yd0\", \"ydf\", \"theta0\", \\\n",
    "            \"thetaf\", \"thetad0\", \"thetadf\", \"phi0\", \"phif\", \"phid0\", \"phidf\", \"F\", \"alpha\", \"tau0\"])\n",
    "    \n",
    "    tstamp = datetime.now().strftime(\"%Y_%m_%d__%H_%M_%S\")\n",
    "    print(tstamp)\n",
    "    \n",
    "    newDF.to_csv(os.path.join(pythonMadeData, \n",
    "                          \"RandomInitCond_\" + tstamp + \".csv\"),\n",
    "             index = False)"
   ]
  },
  {
   "cell_type": "code",
   "execution_count": null,
   "metadata": {},
   "outputs": [],
   "source": []
  }
 ],
 "metadata": {
  "celltoolbar": "Raw Cell Format",
  "kernelspec": {
   "display_name": "numSolve_parallel",
   "language": "python",
   "name": "numsolve_parallel"
  },
  "language_info": {
   "codemirror_mode": {
    "name": "ipython",
    "version": 3
   },
   "file_extension": ".py",
   "mimetype": "text/x-python",
   "name": "python",
   "nbconvert_exporter": "python",
   "pygments_lexer": "ipython3",
   "version": "3.6.7"
  }
 },
 "nbformat": 4,
 "nbformat_minor": 2
}
