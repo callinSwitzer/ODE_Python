{
 "cells": [
  {
   "cell_type": "markdown",
   "metadata": {},
   "source": [
    "## Callin Switzer\n",
    "10 Dec 2018\n",
    "### Modified TLD script for running simulation"
   ]
  },
  {
   "cell_type": "raw",
   "metadata": {},
   "source": [
    "#  Jorge BugBuster\n",
    "###  This is a quick look at Jorge's ODE system for the abdo-flex model.  WHOA... be sure to use cgs (centimeter, gram, seconds) system!\n",
    "###  TLD -- based on Code from Jorge Bustamante 2018\n",
    "###    Python modification of Matlab code.  \n",
    "###    updated: 29 Nov. 2018\n",
    "### Updated 1 April 2019"
   ]
  },
  {
   "cell_type": "code",
   "execution_count": 1,
   "metadata": {},
   "outputs": [
    {
     "name": "stdout",
     "output_type": "stream",
     "text": [
      "3.6.6 | packaged by conda-forge | (default, Jul 26 2018, 11:48:23) [MSC v.1900 64 bit (AMD64)]\n"
     ]
    }
   ],
   "source": [
    "import matplotlib.pyplot as plt\n",
    "%matplotlib inline\n",
    "import numpy as np\n",
    "import os\n",
    "import pandas as pd\n",
    "import seaborn as sns\n",
    "from scipy.integrate import odeint\n",
    "import random\n",
    "import time\n",
    "from datetime import datetime\n",
    "import sys\n",
    "from multiprocessing import Pool, cpu_count\n",
    "import multiProcTraj # note that this is a custom-written file \n",
    "\n",
    "print(sys.version)"
   ]
  },
  {
   "cell_type": "code",
   "execution_count": 2,
   "metadata": {},
   "outputs": [
    {
     "name": "stdout",
     "output_type": "stream",
     "text": [
      "last run on 2019-04-01 14:58:47.332230\n"
     ]
    }
   ],
   "source": [
    "now = datetime.now()\n",
    "print(\"last run on \" + str(now))\n",
    "\n",
    "# define directories\n",
    "baseDir = os.getcwd()\n",
    "dataDir = r'D:\\MothSimulations\\11c-AggressiveManeuver\\Qstore\\hws_am_con'\n",
    "figDir = r'D:\\Dropbox\\AcademiaDropbox\\mothMachineLearning_dataAndFigs\\Figs'\n",
    "dataOutput = r'D:\\Dropbox\\AcademiaDropbox\\mothMachineLearning_dataAndFigs\\DataOutput'\n",
    "savedModels = r'D:\\Dropbox\\AcademiaDropbox\\mothMachineLearning_dataAndFigs\\savedModels'\n",
    "pythonMadeData = r\"D:/Dropbox/AcademiaDropbox/mothMachineLearning_dataAndFigs/PythonGeneratedData/TrainingData\"\n",
    "\n",
    "if not os.path.exists(dataOutput):\n",
    "    os.mkdir(dataOutput)\n",
    "    \n",
    "if not os.path.exists(savedModels):\n",
    "    os.mkdir(savedModels)"
   ]
  },
  {
   "cell_type": "code",
   "execution_count": 3,
   "metadata": {},
   "outputs": [
    {
     "name": "stdout",
     "output_type": "stream",
     "text": [
      "1.0791139602661133\n",
      "1.3006198406219482\n"
     ]
    }
   ],
   "source": [
    "# parallel run of simulations -- this generates approximately 1 million simulations per hour\n",
    "p = Pool(cpu_count()-1)\n",
    "stt = time.time()   \n",
    "# bb = p.map(multiProcTraj.flyBug_firstLast, range(100000) ) \n",
    "bb = p.map(multiProcTraj.flyBug_firstLast, range(100) ) \n",
    "print(time.time() -stt)\n",
    "\n",
    "p.close()\n",
    "p.join()\n",
    "print(time.time() -stt)"
   ]
  },
  {
   "cell_type": "code",
   "execution_count": 4,
   "metadata": {},
   "outputs": [
    {
     "data": {
      "text/html": [
       "<div>\n",
       "<style scoped>\n",
       "    .dataframe tbody tr th:only-of-type {\n",
       "        vertical-align: middle;\n",
       "    }\n",
       "\n",
       "    .dataframe tbody tr th {\n",
       "        vertical-align: top;\n",
       "    }\n",
       "\n",
       "    .dataframe thead th {\n",
       "        text-align: right;\n",
       "    }\n",
       "</style>\n",
       "<table border=\"1\" class=\"dataframe\">\n",
       "  <thead>\n",
       "    <tr style=\"text-align: right;\">\n",
       "      <th></th>\n",
       "      <th>x0</th>\n",
       "      <th>xf</th>\n",
       "      <th>xd0</th>\n",
       "      <th>xdf</th>\n",
       "      <th>y0</th>\n",
       "      <th>yf</th>\n",
       "      <th>yd0</th>\n",
       "      <th>ydf</th>\n",
       "      <th>theta0</th>\n",
       "      <th>thetaf</th>\n",
       "      <th>thetad0</th>\n",
       "      <th>thetadf</th>\n",
       "      <th>phi0</th>\n",
       "      <th>phif</th>\n",
       "      <th>phid0</th>\n",
       "      <th>phidf</th>\n",
       "      <th>F</th>\n",
       "      <th>alpha</th>\n",
       "      <th>tau0</th>\n",
       "    </tr>\n",
       "  </thead>\n",
       "  <tbody>\n",
       "    <tr>\n",
       "      <th>0</th>\n",
       "      <td>0.0</td>\n",
       "      <td>-13.607295</td>\n",
       "      <td>-852.741544</td>\n",
       "      <td>-490.584809</td>\n",
       "      <td>0.0</td>\n",
       "      <td>1.983349</td>\n",
       "      <td>-36.968496</td>\n",
       "      <td>213.396085</td>\n",
       "      <td>2.539464</td>\n",
       "      <td>2.095772</td>\n",
       "      <td>3.926293</td>\n",
       "      <td>-46.426069</td>\n",
       "      <td>6.223686</td>\n",
       "      <td>5.709468</td>\n",
       "      <td>-4.322925</td>\n",
       "      <td>-49.962159</td>\n",
       "      <td>26734.450698</td>\n",
       "      <td>4.516548</td>\n",
       "      <td>46899.034743</td>\n",
       "    </tr>\n",
       "    <tr>\n",
       "      <th>1</th>\n",
       "      <td>0.0</td>\n",
       "      <td>-30.145318</td>\n",
       "      <td>-1355.260307</td>\n",
       "      <td>-1624.151434</td>\n",
       "      <td>0.0</td>\n",
       "      <td>-23.664110</td>\n",
       "      <td>-1255.764604</td>\n",
       "      <td>-1070.558305</td>\n",
       "      <td>1.682830</td>\n",
       "      <td>0.993559</td>\n",
       "      <td>-5.552741</td>\n",
       "      <td>-54.133924</td>\n",
       "      <td>6.129007</td>\n",
       "      <td>5.567859</td>\n",
       "      <td>-20.608540</td>\n",
       "      <td>-47.738316</td>\n",
       "      <td>17102.422808</td>\n",
       "      <td>1.144833</td>\n",
       "      <td>-90626.150134</td>\n",
       "    </tr>\n",
       "    <tr>\n",
       "      <th>2</th>\n",
       "      <td>0.0</td>\n",
       "      <td>-23.040026</td>\n",
       "      <td>-1425.064493</td>\n",
       "      <td>-879.707206</td>\n",
       "      <td>0.0</td>\n",
       "      <td>-25.145181</td>\n",
       "      <td>-1339.236182</td>\n",
       "      <td>-1177.147077</td>\n",
       "      <td>2.922970</td>\n",
       "      <td>2.907007</td>\n",
       "      <td>15.703209</td>\n",
       "      <td>-16.628062</td>\n",
       "      <td>6.035121</td>\n",
       "      <td>6.130179</td>\n",
       "      <td>23.024361</td>\n",
       "      <td>-11.065929</td>\n",
       "      <td>31787.221679</td>\n",
       "      <td>3.654929</td>\n",
       "      <td>-80141.167397</td>\n",
       "    </tr>\n",
       "    <tr>\n",
       "      <th>3</th>\n",
       "      <td>0.0</td>\n",
       "      <td>-20.701612</td>\n",
       "      <td>-1228.817301</td>\n",
       "      <td>-1108.638105</td>\n",
       "      <td>0.0</td>\n",
       "      <td>11.201388</td>\n",
       "      <td>651.041294</td>\n",
       "      <td>499.407203</td>\n",
       "      <td>3.810919</td>\n",
       "      <td>1.302874</td>\n",
       "      <td>-20.931223</td>\n",
       "      <td>-249.414157</td>\n",
       "      <td>4.677550</td>\n",
       "      <td>2.107979</td>\n",
       "      <td>12.274460</td>\n",
       "      <td>-252.161885</td>\n",
       "      <td>29378.133583</td>\n",
       "      <td>2.808833</td>\n",
       "      <td>44793.475379</td>\n",
       "    </tr>\n",
       "    <tr>\n",
       "      <th>4</th>\n",
       "      <td>0.0</td>\n",
       "      <td>11.603414</td>\n",
       "      <td>535.443232</td>\n",
       "      <td>630.218451</td>\n",
       "      <td>0.0</td>\n",
       "      <td>-10.549285</td>\n",
       "      <td>-511.477731</td>\n",
       "      <td>-543.747397</td>\n",
       "      <td>1.939297</td>\n",
       "      <td>1.764272</td>\n",
       "      <td>6.586917</td>\n",
       "      <td>-17.495449</td>\n",
       "      <td>4.786838</td>\n",
       "      <td>4.657594</td>\n",
       "      <td>-3.157218</td>\n",
       "      <td>-15.201045</td>\n",
       "      <td>6233.607672</td>\n",
       "      <td>4.321771</td>\n",
       "      <td>-32951.196924</td>\n",
       "    </tr>\n",
       "  </tbody>\n",
       "</table>\n",
       "</div>"
      ],
      "text/plain": [
       "    x0         xf          xd0          xdf   y0         yf          yd0  \\\n",
       "0  0.0 -13.607295  -852.741544  -490.584809  0.0   1.983349   -36.968496   \n",
       "1  0.0 -30.145318 -1355.260307 -1624.151434  0.0 -23.664110 -1255.764604   \n",
       "2  0.0 -23.040026 -1425.064493  -879.707206  0.0 -25.145181 -1339.236182   \n",
       "3  0.0 -20.701612 -1228.817301 -1108.638105  0.0  11.201388   651.041294   \n",
       "4  0.0  11.603414   535.443232   630.218451  0.0 -10.549285  -511.477731   \n",
       "\n",
       "           ydf    theta0    thetaf    thetad0     thetadf      phi0      phif  \\\n",
       "0   213.396085  2.539464  2.095772   3.926293  -46.426069  6.223686  5.709468   \n",
       "1 -1070.558305  1.682830  0.993559  -5.552741  -54.133924  6.129007  5.567859   \n",
       "2 -1177.147077  2.922970  2.907007  15.703209  -16.628062  6.035121  6.130179   \n",
       "3   499.407203  3.810919  1.302874 -20.931223 -249.414157  4.677550  2.107979   \n",
       "4  -543.747397  1.939297  1.764272   6.586917  -17.495449  4.786838  4.657594   \n",
       "\n",
       "       phid0       phidf             F     alpha          tau0  \n",
       "0  -4.322925  -49.962159  26734.450698  4.516548  46899.034743  \n",
       "1 -20.608540  -47.738316  17102.422808  1.144833 -90626.150134  \n",
       "2  23.024361  -11.065929  31787.221679  3.654929 -80141.167397  \n",
       "3  12.274460 -252.161885  29378.133583  2.808833  44793.475379  \n",
       "4  -3.157218  -15.201045   6233.607672  4.321771 -32951.196924  "
      ]
     },
     "execution_count": 4,
     "metadata": {},
     "output_type": "execute_result"
    }
   ],
   "source": [
    "# save data to csv\n",
    "newDF = pd.DataFrame(bb, columns= [\"x0\", \"xf\", \"xd0\", \"xdf\", \"y0\", \"yf\", \"yd0\", \"ydf\", \"theta0\", \\\n",
    "\"thetaf\", \"thetad0\", \"thetadf\", \"phi0\", \"phif\", \"phid0\", \"phidf\", \"F\", \"alpha\", \"tau0\"])\n",
    "\n",
    "\n",
    "newDF.head()"
   ]
  },
  {
   "cell_type": "code",
   "execution_count": 5,
   "metadata": {},
   "outputs": [
    {
     "name": "stdout",
     "output_type": "stream",
     "text": [
      "2019_04_01__14_58_50\n"
     ]
    }
   ],
   "source": [
    "tstamp = datetime.now().strftime(\"%Y_%m_%d__%H_%M_%S\")\n",
    "print(tstamp)"
   ]
  },
  {
   "cell_type": "code",
   "execution_count": 6,
   "metadata": {},
   "outputs": [
    {
     "data": {
      "text/plain": [
       "'D:/Dropbox/AcademiaDropbox/mothMachineLearning_dataAndFigs/PythonGeneratedData/TrainingData'"
      ]
     },
     "execution_count": 6,
     "metadata": {},
     "output_type": "execute_result"
    }
   ],
   "source": [
    "pythonMadeData"
   ]
  },
  {
   "cell_type": "code",
   "execution_count": 7,
   "metadata": {},
   "outputs": [],
   "source": [
    "newDF.to_csv(os.path.join(pythonMadeData, \n",
    "                          \"RandomInitCond_\" + tstamp + \".csv\"),\n",
    "             index = False)"
   ]
  },
  {
   "cell_type": "code",
   "execution_count": 11,
   "metadata": {},
   "outputs": [
    {
     "name": "stdout",
     "output_type": "stream",
     "text": [
      "383.07985162734985\n",
      "383.3160660266876\n",
      "2019_04_01__17_41_07\n",
      "382.38553285598755\n",
      "382.65434098243713\n",
      "2019_04_01__17_47_32\n",
      "381.44818234443665\n",
      "381.6959939002991\n",
      "2019_04_01__17_53_56\n",
      "380.83958292007446\n",
      "381.0643587112427\n",
      "2019_04_01__18_00_19\n",
      "389.01401686668396\n",
      "389.24786925315857\n",
      "2019_04_01__18_06_51\n",
      "381.56387424468994\n",
      "381.7234480381012\n",
      "2019_04_01__18_13_15\n",
      "389.2613277435303\n",
      "389.4792289733887\n",
      "2019_04_01__18_19_47\n",
      "379.2759895324707\n",
      "379.4798994064331\n",
      "2019_04_01__18_26_09\n"
     ]
    }
   ],
   "source": [
    "# for loop to run parallel processes a few times\n",
    "\n",
    "for ii in range(8):\n",
    "    # parallel run of simulations -- this generates approximately 1 million simulations per hour\n",
    "    # this cell takes about an hour to run\n",
    "    p = Pool(cpu_count()-2)\n",
    "    stt = time.time()   \n",
    "    bb = p.map(multiProcTraj.flyBug_firstLast, range(100000) ) \n",
    "    print(time.time() -stt)\n",
    "\n",
    "    p.close()\n",
    "    p.join()\n",
    "    print(time.time() -stt)\n",
    "    newDF = pd.DataFrame(bb, columns= [\"x0\", \"xf\", \"xd0\", \"xdf\", \"y0\", \"yf\", \"yd0\", \"ydf\", \"theta0\", \\\n",
    "            \"thetaf\", \"thetad0\", \"thetadf\", \"phi0\", \"phif\", \"phid0\", \"phidf\", \"F\", \"alpha\", \"tau0\"])\n",
    "    \n",
    "    tstamp = datetime.now().strftime(\"%Y_%m_%d__%H_%M_%S\")\n",
    "    print(tstamp)\n",
    "    \n",
    "    newDF.to_csv(os.path.join(pythonMadeData, \n",
    "                          \"RandomInitCond_\" + tstamp + \".csv\"),\n",
    "             index = False)"
   ]
  },
  {
   "cell_type": "code",
   "execution_count": 9,
   "metadata": {},
   "outputs": [
    {
     "name": "stdout",
     "output_type": "stream",
     "text": [
      "390.45413422584534\n",
      "390.69743037223816\n",
      "2019_04_01__15_57_12\n",
      "394.3926131725311\n",
      "394.60145688056946\n",
      "2019_04_01__16_03_49\n",
      "393.9267120361328\n",
      "394.113646030426\n",
      "2019_04_01__16_10_26\n",
      "389.80172395706177\n",
      "389.96865582466125\n",
      "2019_04_01__16_16_58\n",
      "392.83873081207275\n",
      "392.9932096004486\n",
      "2019_04_01__16_23_34\n",
      "395.94046449661255\n",
      "396.15923500061035\n",
      "2019_04_01__16_30_12\n",
      "396.54288697242737\n",
      "396.7117576599121\n",
      "2019_04_01__16_36_51\n",
      "397.0844020843506\n",
      "397.22004222869873\n",
      "2019_04_01__16_43_31\n"
     ]
    }
   ],
   "source": [
    "# for loop to run parallel processes a few times\n",
    "for ii in range(8):\n",
    "    # parallel run of simulations -- this generates approximately 1 million simulations per hour\n",
    "    p = Pool(cpu_count()-4)\n",
    "    stt = time.time()   \n",
    "    bb = p.map(multiProcTraj.flyBug_firstLast, range(100000) ) \n",
    "    print(time.time() -stt)\n",
    "\n",
    "    p.close()\n",
    "    p.join()\n",
    "    print(time.time() -stt)\n",
    "    newDF = pd.DataFrame(bb, columns= [\"x0\", \"xf\", \"xd0\", \"xdf\", \"y0\", \"yf\", \"yd0\", \"ydf\", \"theta0\", \\\n",
    "            \"thetaf\", \"thetad0\", \"thetadf\", \"phi0\", \"phif\", \"phid0\", \"phidf\", \"F\", \"alpha\", \"tau0\"])\n",
    "    \n",
    "    tstamp = datetime.now().strftime(\"%Y_%m_%d__%H_%M_%S\")\n",
    "    print(tstamp)\n",
    "    \n",
    "    newDF.to_csv(os.path.join(pythonMadeData, \n",
    "                          \"RandomInitCond_\" + tstamp + \".csv\"),\n",
    "             index = False)"
   ]
  },
  {
   "cell_type": "code",
   "execution_count": 10,
   "metadata": {},
   "outputs": [
    {
     "name": "stdout",
     "output_type": "stream",
     "text": [
      "384.38536405563354\n",
      "384.61723232269287\n",
      "2019_04_01__16_49_58\n",
      "380.34615659713745\n",
      "380.51796436309814\n",
      "2019_04_01__16_56_21\n",
      "381.3504447937012\n",
      "381.51201152801514\n",
      "2019_04_01__17_02_45\n",
      "380.8039393424988\n",
      "381.0397791862488\n",
      "2019_04_01__17_09_08\n",
      "381.543954372406\n",
      "381.70603370666504\n",
      "2019_04_01__17_15_33\n",
      "380.24643564224243\n",
      "380.431432723999\n",
      "2019_04_01__17_21_55\n",
      "380.67425203323364\n",
      "380.847088098526\n",
      "2019_04_01__17_28_19\n",
      "379.6579966545105\n",
      "379.83472776412964\n",
      "2019_04_01__17_34_41\n"
     ]
    }
   ],
   "source": [
    "# for loop to run parallel processes a few times\n",
    "\n",
    "for ii in range(8):\n",
    "    # parallel run of simulations -- this generates approximately 1 million simulations per hour\n",
    "    # this cell takes about an hour to run\n",
    "    p = Pool(cpu_count()-2)\n",
    "    stt = time.time()   \n",
    "    bb = p.map(multiProcTraj.flyBug_firstLast, range(100000) ) \n",
    "    print(time.time() -stt)\n",
    "\n",
    "    p.close()\n",
    "    p.join()\n",
    "    print(time.time() -stt)\n",
    "    newDF = pd.DataFrame(bb, columns= [\"x0\", \"xf\", \"xd0\", \"xdf\", \"y0\", \"yf\", \"yd0\", \"ydf\", \"theta0\", \\\n",
    "            \"thetaf\", \"thetad0\", \"thetadf\", \"phi0\", \"phif\", \"phid0\", \"phidf\", \"F\", \"alpha\", \"tau0\"])\n",
    "    \n",
    "    tstamp = datetime.now().strftime(\"%Y_%m_%d__%H_%M_%S\")\n",
    "    print(tstamp)\n",
    "    \n",
    "    newDF.to_csv(os.path.join(pythonMadeData, \n",
    "                          \"RandomInitCond_\" + tstamp + \".csv\"),\n",
    "             index = False)"
   ]
  },
  {
   "cell_type": "code",
   "execution_count": null,
   "metadata": {},
   "outputs": [],
   "source": []
  }
 ],
 "metadata": {
  "celltoolbar": "Raw Cell Format",
  "kernelspec": {
   "display_name": "numSolve",
   "language": "python",
   "name": "numsolve"
  },
  "language_info": {
   "codemirror_mode": {
    "name": "ipython",
    "version": 3
   },
   "file_extension": ".py",
   "mimetype": "text/x-python",
   "name": "python",
   "nbconvert_exporter": "python",
   "pygments_lexer": "ipython3",
   "version": "3.6.6"
  }
 },
 "nbformat": 4,
 "nbformat_minor": 2
}
