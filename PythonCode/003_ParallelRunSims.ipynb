{
 "cells": [
  {
   "cell_type": "markdown",
   "metadata": {},
   "source": [
    "## Callin Switzer\n",
    "10 Dec 2018\n",
    "### Modified TLD script for running simulation"
   ]
  },
  {
   "cell_type": "raw",
   "metadata": {},
   "source": [
    "#  Jorge BugBuster\n",
    "###  This is a quick look at Jorge's ODE system for the abdo-flex model.  WHOA... be sure to use cgs (centimeter, gram, seconds) system!\n",
    "###  TLD -- based on Code from Jorge Bustamante 2018\n",
    "###    Python modification of Matlab code.  \n",
    "###    updated: 29 Nov. 2018\n",
    "### Updated 1 April 2019"
   ]
  },
  {
   "cell_type": "code",
   "execution_count": 1,
   "metadata": {},
   "outputs": [
    {
     "name": "stdout",
     "output_type": "stream",
     "text": [
      "3.6.7 (default, Feb 28 2019, 07:28:18) [MSC v.1900 64 bit (AMD64)]\n"
     ]
    }
   ],
   "source": [
    "import matplotlib.pyplot as plt\n",
    "%matplotlib inline\n",
    "import numpy as np\n",
    "import os\n",
    "import pandas as pd\n",
    "import seaborn as sns\n",
    "from scipy.integrate import odeint\n",
    "import random\n",
    "import time\n",
    "from datetime import datetime\n",
    "import sys\n",
    "from multiprocessing import Pool, cpu_count\n",
    "import multiProcTraj # note that this is a custom-written file \n",
    "\n",
    "print(sys.version)"
   ]
  },
  {
   "cell_type": "code",
   "execution_count": 2,
   "metadata": {},
   "outputs": [
    {
     "name": "stdout",
     "output_type": "stream",
     "text": [
      "last run on 2019-04-02 13:20:56.311546\n"
     ]
    }
   ],
   "source": [
    "now = datetime.now()\n",
    "print(\"last run on \" + str(now))\n",
    "\n",
    "# define directories\n",
    "baseDir = os.getcwd()\n",
    "dataDir = r'D:\\MothSimulations\\11c-AggressiveManeuver\\Qstore\\hws_am_con'\n",
    "figDir = r'D:\\Dropbox\\AcademiaDropbox\\mothMachineLearning_dataAndFigs\\Figs'\n",
    "dataOutput = r'D:\\Dropbox\\AcademiaDropbox\\mothMachineLearning_dataAndFigs\\DataOutput'\n",
    "savedModels = r'D:\\Dropbox\\AcademiaDropbox\\mothMachineLearning_dataAndFigs\\savedModels'\n",
    "pythonMadeData = r\"D:/Dropbox/AcademiaDropbox/mothMachineLearning_dataAndFigs/PythonGeneratedData/TrainingData\"\n",
    "\n",
    "if not os.path.exists(dataOutput):\n",
    "    os.mkdir(dataOutput)\n",
    "    \n",
    "if not os.path.exists(savedModels):\n",
    "    os.mkdir(savedModels)"
   ]
  },
  {
   "cell_type": "code",
   "execution_count": 3,
   "metadata": {},
   "outputs": [
    {
     "name": "stdout",
     "output_type": "stream",
     "text": [
      "3.5764057636260986\n",
      "4.021068334579468\n"
     ]
    }
   ],
   "source": [
    "# parallel run of simulations -- this generates approximately 1 million simulations per hour\n",
    "p = Pool(cpu_count()-1)\n",
    "stt = time.time()   \n",
    "# bb = p.map(multiProcTraj.flyBug_firstLast, range(100000) ) \n",
    "bb = p.map(multiProcTraj.flyBug_firstLast, range(1000) ) \n",
    "print(time.time() -stt)\n",
    "\n",
    "p.close()\n",
    "p.join()\n",
    "print(time.time() -stt)"
   ]
  },
  {
   "cell_type": "code",
   "execution_count": 4,
   "metadata": {},
   "outputs": [
    {
     "name": "stdout",
     "output_type": "stream",
     "text": [
      "12.208239555358887\n",
      "12.695435762405396\n"
     ]
    }
   ],
   "source": [
    "import importlib\n",
    "importlib.reload(multiProcTraj)\n",
    "# parallel run of simulations -- this generates approximately 1 million simulations per hour\n",
    "p = Pool(cpu_count()-1)\n",
    "stt = time.time()   \n",
    "# bb = p.map(multiProcTraj.flyBug_firstLast, range(100000) ) \n",
    "bb = p.map(multiProcTraj.flyBug_firstLast, range(100000) ) \n",
    "print(time.time() -stt)\n",
    "\n",
    "p.close()\n",
    "p.join()\n",
    "print(time.time() -stt)"
   ]
  },
  {
   "cell_type": "code",
   "execution_count": 5,
   "metadata": {},
   "outputs": [
    {
     "data": {
      "text/plain": [
       "100000"
      ]
     },
     "execution_count": 5,
     "metadata": {},
     "output_type": "execute_result"
    }
   ],
   "source": [
    "len(bb)"
   ]
  },
  {
   "cell_type": "code",
   "execution_count": 6,
   "metadata": {},
   "outputs": [
    {
     "data": {
      "text/html": [
       "<div>\n",
       "<style scoped>\n",
       "    .dataframe tbody tr th:only-of-type {\n",
       "        vertical-align: middle;\n",
       "    }\n",
       "\n",
       "    .dataframe tbody tr th {\n",
       "        vertical-align: top;\n",
       "    }\n",
       "\n",
       "    .dataframe thead th {\n",
       "        text-align: right;\n",
       "    }\n",
       "</style>\n",
       "<table border=\"1\" class=\"dataframe\">\n",
       "  <thead>\n",
       "    <tr style=\"text-align: right;\">\n",
       "      <th></th>\n",
       "      <th>x0</th>\n",
       "      <th>xf</th>\n",
       "      <th>xd0</th>\n",
       "      <th>xdf</th>\n",
       "      <th>y0</th>\n",
       "      <th>yf</th>\n",
       "      <th>yd0</th>\n",
       "      <th>ydf</th>\n",
       "      <th>theta0</th>\n",
       "      <th>thetaf</th>\n",
       "      <th>thetad0</th>\n",
       "      <th>thetadf</th>\n",
       "      <th>phi0</th>\n",
       "      <th>phif</th>\n",
       "      <th>phid0</th>\n",
       "      <th>phidf</th>\n",
       "      <th>F</th>\n",
       "      <th>alpha</th>\n",
       "      <th>tau0</th>\n",
       "    </tr>\n",
       "  </thead>\n",
       "  <tbody>\n",
       "    <tr>\n",
       "      <th>0</th>\n",
       "      <td>0.0</td>\n",
       "      <td>-12.474454</td>\n",
       "      <td>-464.745920</td>\n",
       "      <td>-778.553164</td>\n",
       "      <td>0.0</td>\n",
       "      <td>-7.468495</td>\n",
       "      <td>-323.664398</td>\n",
       "      <td>-421.248236</td>\n",
       "      <td>5.197795</td>\n",
       "      <td>5.195073</td>\n",
       "      <td>19.807495</td>\n",
       "      <td>-24.478838</td>\n",
       "      <td>1.305674</td>\n",
       "      <td>1.238495</td>\n",
       "      <td>24.400125</td>\n",
       "      <td>-27.696517</td>\n",
       "      <td>19356.184044</td>\n",
       "      <td>4.430587</td>\n",
       "      <td>43638.388647</td>\n",
       "    </tr>\n",
       "    <tr>\n",
       "      <th>1</th>\n",
       "      <td>0.0</td>\n",
       "      <td>13.356664</td>\n",
       "      <td>633.884966</td>\n",
       "      <td>700.683764</td>\n",
       "      <td>0.0</td>\n",
       "      <td>-15.775140</td>\n",
       "      <td>-505.532785</td>\n",
       "      <td>-1068.421532</td>\n",
       "      <td>1.867457</td>\n",
       "      <td>1.661519</td>\n",
       "      <td>18.171713</td>\n",
       "      <td>-18.554766</td>\n",
       "      <td>4.768146</td>\n",
       "      <td>4.662871</td>\n",
       "      <td>-10.068404</td>\n",
       "      <td>-13.500634</td>\n",
       "      <td>30260.459008</td>\n",
       "      <td>3.094926</td>\n",
       "      <td>-71281.658037</td>\n",
       "    </tr>\n",
       "    <tr>\n",
       "      <th>2</th>\n",
       "      <td>0.0</td>\n",
       "      <td>17.022381</td>\n",
       "      <td>685.559618</td>\n",
       "      <td>1018.579602</td>\n",
       "      <td>0.0</td>\n",
       "      <td>19.574872</td>\n",
       "      <td>1080.086695</td>\n",
       "      <td>908.004809</td>\n",
       "      <td>3.218874</td>\n",
       "      <td>3.474072</td>\n",
       "      <td>12.742389</td>\n",
       "      <td>30.176462</td>\n",
       "      <td>0.143175</td>\n",
       "      <td>0.488370</td>\n",
       "      <td>-12.176835</td>\n",
       "      <td>34.684672</td>\n",
       "      <td>20561.946841</td>\n",
       "      <td>2.570358</td>\n",
       "      <td>-61710.163121</td>\n",
       "    </tr>\n",
       "    <tr>\n",
       "      <th>3</th>\n",
       "      <td>0.0</td>\n",
       "      <td>25.370846</td>\n",
       "      <td>1248.360354</td>\n",
       "      <td>1221.833976</td>\n",
       "      <td>0.0</td>\n",
       "      <td>20.155365</td>\n",
       "      <td>1149.938859</td>\n",
       "      <td>874.232362</td>\n",
       "      <td>4.064721</td>\n",
       "      <td>3.178554</td>\n",
       "      <td>9.112216</td>\n",
       "      <td>-79.943812</td>\n",
       "      <td>2.870388</td>\n",
       "      <td>1.882970</td>\n",
       "      <td>-24.917176</td>\n",
       "      <td>-85.027527</td>\n",
       "      <td>10417.663013</td>\n",
       "      <td>0.896277</td>\n",
       "      <td>70178.681482</td>\n",
       "    </tr>\n",
       "    <tr>\n",
       "      <th>4</th>\n",
       "      <td>0.0</td>\n",
       "      <td>-7.640973</td>\n",
       "      <td>-271.984023</td>\n",
       "      <td>-490.834898</td>\n",
       "      <td>0.0</td>\n",
       "      <td>-28.978068</td>\n",
       "      <td>-1432.501138</td>\n",
       "      <td>-1459.346000</td>\n",
       "      <td>1.806841</td>\n",
       "      <td>1.666594</td>\n",
       "      <td>6.373596</td>\n",
       "      <td>-18.024349</td>\n",
       "      <td>3.116088</td>\n",
       "      <td>2.956667</td>\n",
       "      <td>0.703294</td>\n",
       "      <td>-18.976324</td>\n",
       "      <td>10991.794022</td>\n",
       "      <td>1.418663</td>\n",
       "      <td>13750.735064</td>\n",
       "    </tr>\n",
       "  </tbody>\n",
       "</table>\n",
       "</div>"
      ],
      "text/plain": [
       "    x0         xf          xd0          xdf   y0         yf          yd0  \\\n",
       "0  0.0 -12.474454  -464.745920  -778.553164  0.0  -7.468495  -323.664398   \n",
       "1  0.0  13.356664   633.884966   700.683764  0.0 -15.775140  -505.532785   \n",
       "2  0.0  17.022381   685.559618  1018.579602  0.0  19.574872  1080.086695   \n",
       "3  0.0  25.370846  1248.360354  1221.833976  0.0  20.155365  1149.938859   \n",
       "4  0.0  -7.640973  -271.984023  -490.834898  0.0 -28.978068 -1432.501138   \n",
       "\n",
       "           ydf    theta0    thetaf    thetad0    thetadf      phi0      phif  \\\n",
       "0  -421.248236  5.197795  5.195073  19.807495 -24.478838  1.305674  1.238495   \n",
       "1 -1068.421532  1.867457  1.661519  18.171713 -18.554766  4.768146  4.662871   \n",
       "2   908.004809  3.218874  3.474072  12.742389  30.176462  0.143175  0.488370   \n",
       "3   874.232362  4.064721  3.178554   9.112216 -79.943812  2.870388  1.882970   \n",
       "4 -1459.346000  1.806841  1.666594   6.373596 -18.024349  3.116088  2.956667   \n",
       "\n",
       "       phid0      phidf             F     alpha          tau0  \n",
       "0  24.400125 -27.696517  19356.184044  4.430587  43638.388647  \n",
       "1 -10.068404 -13.500634  30260.459008  3.094926 -71281.658037  \n",
       "2 -12.176835  34.684672  20561.946841  2.570358 -61710.163121  \n",
       "3 -24.917176 -85.027527  10417.663013  0.896277  70178.681482  \n",
       "4   0.703294 -18.976324  10991.794022  1.418663  13750.735064  "
      ]
     },
     "execution_count": 6,
     "metadata": {},
     "output_type": "execute_result"
    }
   ],
   "source": [
    "# save data to csv\n",
    "newDF = pd.DataFrame(bb, columns= [\"x0\", \"xf\", \"xd0\", \"xdf\", \"y0\", \"yf\", \"yd0\", \"ydf\", \"theta0\", \\\n",
    "\"thetaf\", \"thetad0\", \"thetadf\", \"phi0\", \"phif\", \"phid0\", \"phidf\", \"F\", \"alpha\", \"tau0\"])\n",
    "\n",
    "\n",
    "newDF.head()"
   ]
  },
  {
   "cell_type": "code",
   "execution_count": 7,
   "metadata": {},
   "outputs": [
    {
     "name": "stdout",
     "output_type": "stream",
     "text": [
      "2019_04_02__13_21_23\n"
     ]
    }
   ],
   "source": [
    "tstamp = datetime.now().strftime(\"%Y_%m_%d__%H_%M_%S\")\n",
    "print(tstamp)"
   ]
  },
  {
   "cell_type": "code",
   "execution_count": 8,
   "metadata": {},
   "outputs": [
    {
     "data": {
      "text/plain": [
       "'D:/Dropbox/AcademiaDropbox/mothMachineLearning_dataAndFigs/PythonGeneratedData/TrainingData'"
      ]
     },
     "execution_count": 8,
     "metadata": {},
     "output_type": "execute_result"
    }
   ],
   "source": [
    "pythonMadeData"
   ]
  },
  {
   "cell_type": "code",
   "execution_count": 9,
   "metadata": {},
   "outputs": [],
   "source": [
    "newDF.to_csv(os.path.join(pythonMadeData, \n",
    "                          \"RandomInitCond_\" + tstamp + \".csv\"),\n",
    "             index = False)"
   ]
  },
  {
   "cell_type": "code",
   "execution_count": null,
   "metadata": {},
   "outputs": [],
   "source": [
    "# for loop to run parallel processes a few times\n",
    "\n",
    "for ii in range(8):\n",
    "    # parallel run of simulations -- this generates approximately 1 million simulations per hour\n",
    "    # this cell takes about an hour to run\n",
    "    p = Pool(cpu_count()-2)\n",
    "    stt = time.time()   \n",
    "    bb = p.map(multiProcTraj.flyBug_firstLast, range(100000) ) \n",
    "    print(time.time() -stt)\n",
    "\n",
    "    p.close()\n",
    "    p.join()\n",
    "    print(time.time() -stt)\n",
    "    newDF = pd.DataFrame(bb, columns= [\"x0\", \"xf\", \"xd0\", \"xdf\", \"y0\", \"yf\", \"yd0\", \"ydf\", \"theta0\", \\\n",
    "            \"thetaf\", \"thetad0\", \"thetadf\", \"phi0\", \"phif\", \"phid0\", \"phidf\", \"F\", \"alpha\", \"tau0\"])\n",
    "    \n",
    "    tstamp = datetime.now().strftime(\"%Y_%m_%d__%H_%M_%S\")\n",
    "    print(tstamp)\n",
    "    \n",
    "    newDF.to_csv(os.path.join(pythonMadeData, \n",
    "                          \"RandomInitCond_\" + tstamp + \".csv\"),\n",
    "             index = False)"
   ]
  },
  {
   "cell_type": "code",
   "execution_count": null,
   "metadata": {},
   "outputs": [],
   "source": [
    "# refref: one million simulations per 96 seconds?"
   ]
  },
  {
   "cell_type": "code",
   "execution_count": null,
   "metadata": {},
   "outputs": [],
   "source": []
  },
  {
   "cell_type": "code",
   "execution_count": null,
   "metadata": {},
   "outputs": [],
   "source": [
    "# for loop to run parallel processes a few times\n",
    "for ii in range(8):\n",
    "    # parallel run of simulations -- this generates approximately 1 million simulations per hour\n",
    "    p = Pool(cpu_count()-4)\n",
    "    stt = time.time()   \n",
    "    bb = p.map(multiProcTraj.flyBug_firstLast, range(100000) ) \n",
    "    print(time.time() -stt)\n",
    "\n",
    "    p.close()\n",
    "    p.join()\n",
    "    print(time.time() -stt)\n",
    "    newDF = pd.DataFrame(bb, columns= [\"x0\", \"xf\", \"xd0\", \"xdf\", \"y0\", \"yf\", \"yd0\", \"ydf\", \"theta0\", \\\n",
    "            \"thetaf\", \"thetad0\", \"thetadf\", \"phi0\", \"phif\", \"phid0\", \"phidf\", \"F\", \"alpha\", \"tau0\"])\n",
    "    \n",
    "    tstamp = datetime.now().strftime(\"%Y_%m_%d__%H_%M_%S\")\n",
    "    print(tstamp)\n",
    "    \n",
    "    newDF.to_csv(os.path.join(pythonMadeData, \n",
    "                          \"RandomInitCond_\" + tstamp + \".csv\"),\n",
    "             index = False)"
   ]
  },
  {
   "cell_type": "code",
   "execution_count": null,
   "metadata": {},
   "outputs": [],
   "source": [
    "# for loop to run parallel processes a few times\n",
    "\n",
    "for ii in range(8):\n",
    "    # parallel run of simulations -- this generates approximately 1 million simulations per hour\n",
    "    # this cell takes about an hour to run\n",
    "    p = Pool(cpu_count()-2)\n",
    "    stt = time.time()   \n",
    "    bb = p.map(multiProcTraj.flyBug_firstLast, range(100000) ) \n",
    "    print(time.time() -stt)\n",
    "\n",
    "    p.close()\n",
    "    p.join()\n",
    "    print(time.time() -stt)\n",
    "    newDF = pd.DataFrame(bb, columns= [\"x0\", \"xf\", \"xd0\", \"xdf\", \"y0\", \"yf\", \"yd0\", \"ydf\", \"theta0\", \\\n",
    "            \"thetaf\", \"thetad0\", \"thetadf\", \"phi0\", \"phif\", \"phid0\", \"phidf\", \"F\", \"alpha\", \"tau0\"])\n",
    "    \n",
    "    tstamp = datetime.now().strftime(\"%Y_%m_%d__%H_%M_%S\")\n",
    "    print(tstamp)\n",
    "    \n",
    "    newDF.to_csv(os.path.join(pythonMadeData, \n",
    "                          \"RandomInitCond_\" + tstamp + \".csv\"),\n",
    "             index = False)"
   ]
  },
  {
   "cell_type": "code",
   "execution_count": null,
   "metadata": {},
   "outputs": [],
   "source": []
  }
 ],
 "metadata": {
  "celltoolbar": "Raw Cell Format",
  "kernelspec": {
   "display_name": "numSolve_parallel",
   "language": "python",
   "name": "numsolve_parallel"
  },
  "language_info": {
   "codemirror_mode": {
    "name": "ipython",
    "version": 3
   },
   "file_extension": ".py",
   "mimetype": "text/x-python",
   "name": "python",
   "nbconvert_exporter": "python",
   "pygments_lexer": "ipython3",
   "version": "3.6.7"
  }
 },
 "nbformat": 4,
 "nbformat_minor": 2
}
