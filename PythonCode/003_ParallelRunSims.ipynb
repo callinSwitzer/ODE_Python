{
 "cells": [
  {
   "cell_type": "markdown",
   "metadata": {},
   "source": [
    "## Callin Switzer\n",
    "10 Dec 2018\n",
    "### Modified TLD script for running simulation"
   ]
  },
  {
   "cell_type": "raw",
   "metadata": {},
   "source": [
    "#  Jorge BugBuster\n",
    "###  This is a quick look at Jorge's ODE system for the abdo-flex model.  WHOA... be sure to use cgs (centimeter, gram, seconds) system!\n",
    "###  TLD -- based on Code from Jorge Bustamante 2018\n",
    "###    Python modification of Matlab code.  \n",
    "###    updated: 29 Nov. 2018\n",
    "### Updated 1 April 2019"
   ]
  },
  {
   "cell_type": "code",
   "execution_count": 1,
   "metadata": {},
   "outputs": [
    {
     "name": "stdout",
     "output_type": "stream",
     "text": [
      "3.6.7 (default, Feb 28 2019, 07:28:18) [MSC v.1900 64 bit (AMD64)]\n"
     ]
    }
   ],
   "source": [
    "import matplotlib.pyplot as plt\n",
    "%matplotlib inline\n",
    "import numpy as np\n",
    "import os\n",
    "import pandas as pd\n",
    "import seaborn as sns\n",
    "from scipy.integrate import odeint\n",
    "import random\n",
    "import time\n",
    "from datetime import datetime\n",
    "import sys\n",
    "from multiprocessing import Pool, cpu_count\n",
    "import multiProcTraj # note that this is a custom-written file \n",
    "\n",
    "print(sys.version)"
   ]
  },
  {
   "cell_type": "code",
   "execution_count": 2,
   "metadata": {},
   "outputs": [
    {
     "name": "stdout",
     "output_type": "stream",
     "text": [
      "last run on 2019-04-03 10:00:06.562743\n"
     ]
    }
   ],
   "source": [
    "now = datetime.now()\n",
    "print(\"last run on \" + str(now))\n",
    "\n",
    "# define directories\n",
    "baseDir = os.getcwd()\n",
    "dataDir = r'D:\\MothSimulations\\11c-AggressiveManeuver\\Qstore\\hws_am_con'\n",
    "figDir = r'D:\\Dropbox\\AcademiaDropbox\\mothMachineLearning_dataAndFigs\\Figs'\n",
    "dataOutput = r'D:\\Dropbox\\AcademiaDropbox\\mothMachineLearning_dataAndFigs\\DataOutput'\n",
    "savedModels = r'D:\\Dropbox\\AcademiaDropbox\\mothMachineLearning_dataAndFigs\\savedModels'\n",
    "pythonMadeData = r\"D:/Dropbox/AcademiaDropbox/mothMachineLearning_dataAndFigs/PythonGeneratedData/TestData\"\n",
    "\n",
    "if not os.path.exists(dataOutput):\n",
    "    os.mkdir(dataOutput)\n",
    "    \n",
    "if not os.path.exists(savedModels):\n",
    "    os.mkdir(savedModels)"
   ]
  },
  {
   "cell_type": "code",
   "execution_count": 3,
   "metadata": {},
   "outputs": [
    {
     "name": "stdout",
     "output_type": "stream",
     "text": [
      "11.96102523803711\n",
      "12.34828519821167\n"
     ]
    }
   ],
   "source": [
    "# parallel run of simulations -- this generates approximately 1 million simulations per hour\n",
    "p = Pool(cpu_count()-1)\n",
    "stt = time.time()   \n",
    "# bb = p.map(multiProcTraj.flyBug_firstLast, range(100000) ) \n",
    "bb = p.map(multiProcTraj.flyBug_firstLast, range(100000) ) \n",
    "print(time.time() -stt)\n",
    "\n",
    "p.close()\n",
    "p.join()\n",
    "print(time.time() -stt)"
   ]
  },
  {
   "cell_type": "code",
   "execution_count": 4,
   "metadata": {},
   "outputs": [
    {
     "name": "stdout",
     "output_type": "stream",
     "text": [
      "12.027846574783325\n",
      "12.397213220596313\n"
     ]
    }
   ],
   "source": [
    "import importlib\n",
    "importlib.reload(multiProcTraj)\n",
    "# parallel run of simulations -- this generates approximately 1 million simulations per hour\n",
    "p = Pool(cpu_count()-1)\n",
    "stt = time.time()   \n",
    "# bb = p.map(multiProcTraj.flyBug_firstLast, range(100000) ) \n",
    "bb = p.map(multiProcTraj.flyBug_firstLast, range(100000) ) \n",
    "print(time.time() -stt)\n",
    "\n",
    "p.close()\n",
    "p.join()\n",
    "print(time.time() -stt)"
   ]
  },
  {
   "cell_type": "code",
   "execution_count": 5,
   "metadata": {},
   "outputs": [
    {
     "data": {
      "text/plain": [
       "100000"
      ]
     },
     "execution_count": 5,
     "metadata": {},
     "output_type": "execute_result"
    }
   ],
   "source": [
    "len(bb)"
   ]
  },
  {
   "cell_type": "code",
   "execution_count": 6,
   "metadata": {},
   "outputs": [
    {
     "data": {
      "text/html": [
       "<div>\n",
       "<style scoped>\n",
       "    .dataframe tbody tr th:only-of-type {\n",
       "        vertical-align: middle;\n",
       "    }\n",
       "\n",
       "    .dataframe tbody tr th {\n",
       "        vertical-align: top;\n",
       "    }\n",
       "\n",
       "    .dataframe thead th {\n",
       "        text-align: right;\n",
       "    }\n",
       "</style>\n",
       "<table border=\"1\" class=\"dataframe\">\n",
       "  <thead>\n",
       "    <tr style=\"text-align: right;\">\n",
       "      <th></th>\n",
       "      <th>x0</th>\n",
       "      <th>xf</th>\n",
       "      <th>xd0</th>\n",
       "      <th>xdf</th>\n",
       "      <th>y0</th>\n",
       "      <th>yf</th>\n",
       "      <th>yd0</th>\n",
       "      <th>ydf</th>\n",
       "      <th>theta0</th>\n",
       "      <th>thetaf</th>\n",
       "      <th>thetad0</th>\n",
       "      <th>thetadf</th>\n",
       "      <th>phi0</th>\n",
       "      <th>phif</th>\n",
       "      <th>phid0</th>\n",
       "      <th>phidf</th>\n",
       "      <th>F</th>\n",
       "      <th>alpha</th>\n",
       "      <th>tau0</th>\n",
       "    </tr>\n",
       "  </thead>\n",
       "  <tbody>\n",
       "    <tr>\n",
       "      <th>0</th>\n",
       "      <td>0.0</td>\n",
       "      <td>-6.506685</td>\n",
       "      <td>9.727829</td>\n",
       "      <td>-664.743615</td>\n",
       "      <td>0.0</td>\n",
       "      <td>19.316630</td>\n",
       "      <td>886.733631</td>\n",
       "      <td>1025.590654</td>\n",
       "      <td>6.131120</td>\n",
       "      <td>6.374237</td>\n",
       "      <td>-4.362304</td>\n",
       "      <td>18.768994</td>\n",
       "      <td>2.980416</td>\n",
       "      <td>3.129906</td>\n",
       "      <td>5.246435</td>\n",
       "      <td>14.071042</td>\n",
       "      <td>38573.087534</td>\n",
       "      <td>2.938092</td>\n",
       "      <td>66764.231874</td>\n",
       "    </tr>\n",
       "    <tr>\n",
       "      <th>1</th>\n",
       "      <td>0.0</td>\n",
       "      <td>12.505820</td>\n",
       "      <td>432.832143</td>\n",
       "      <td>793.651414</td>\n",
       "      <td>0.0</td>\n",
       "      <td>-9.624916</td>\n",
       "      <td>-453.481284</td>\n",
       "      <td>-539.384642</td>\n",
       "      <td>1.490836</td>\n",
       "      <td>0.829095</td>\n",
       "      <td>-23.387810</td>\n",
       "      <td>-61.680507</td>\n",
       "      <td>4.829182</td>\n",
       "      <td>4.088079</td>\n",
       "      <td>6.518635</td>\n",
       "      <td>-65.660969</td>\n",
       "      <td>21324.196742</td>\n",
       "      <td>4.782864</td>\n",
       "      <td>53499.221528</td>\n",
       "    </tr>\n",
       "    <tr>\n",
       "      <th>2</th>\n",
       "      <td>0.0</td>\n",
       "      <td>25.301335</td>\n",
       "      <td>1135.883365</td>\n",
       "      <td>1398.868428</td>\n",
       "      <td>0.0</td>\n",
       "      <td>24.672158</td>\n",
       "      <td>1240.927679</td>\n",
       "      <td>1263.804211</td>\n",
       "      <td>1.193553</td>\n",
       "      <td>1.836257</td>\n",
       "      <td>13.134190</td>\n",
       "      <td>69.962168</td>\n",
       "      <td>2.283918</td>\n",
       "      <td>2.844620</td>\n",
       "      <td>-22.792458</td>\n",
       "      <td>65.929019</td>\n",
       "      <td>12257.348169</td>\n",
       "      <td>4.964735</td>\n",
       "      <td>58009.467034</td>\n",
       "    </tr>\n",
       "    <tr>\n",
       "      <th>3</th>\n",
       "      <td>0.0</td>\n",
       "      <td>-18.076185</td>\n",
       "      <td>-781.079287</td>\n",
       "      <td>-869.878330</td>\n",
       "      <td>0.0</td>\n",
       "      <td>2.625820</td>\n",
       "      <td>-33.818668</td>\n",
       "      <td>379.425268</td>\n",
       "      <td>2.070402</td>\n",
       "      <td>0.405501</td>\n",
       "      <td>-18.037803</td>\n",
       "      <td>-155.163940</td>\n",
       "      <td>1.280916</td>\n",
       "      <td>-0.346720</td>\n",
       "      <td>-6.081534</td>\n",
       "      <td>-153.433685</td>\n",
       "      <td>18116.563803</td>\n",
       "      <td>0.316028</td>\n",
       "      <td>-28087.288479</td>\n",
       "    </tr>\n",
       "    <tr>\n",
       "      <th>4</th>\n",
       "      <td>0.0</td>\n",
       "      <td>-8.278624</td>\n",
       "      <td>-616.962005</td>\n",
       "      <td>-364.914141</td>\n",
       "      <td>0.0</td>\n",
       "      <td>-26.006435</td>\n",
       "      <td>-1375.330692</td>\n",
       "      <td>-1205.761078</td>\n",
       "      <td>3.099738</td>\n",
       "      <td>5.020734</td>\n",
       "      <td>12.026668</td>\n",
       "      <td>183.163244</td>\n",
       "      <td>1.545683</td>\n",
       "      <td>3.598217</td>\n",
       "      <td>15.126035</td>\n",
       "      <td>189.480850</td>\n",
       "      <td>29816.361602</td>\n",
       "      <td>2.991066</td>\n",
       "      <td>-92199.067427</td>\n",
       "    </tr>\n",
       "  </tbody>\n",
       "</table>\n",
       "</div>"
      ],
      "text/plain": [
       "    x0         xf          xd0          xdf   y0         yf          yd0  \\\n",
       "0  0.0  -6.506685     9.727829  -664.743615  0.0  19.316630   886.733631   \n",
       "1  0.0  12.505820   432.832143   793.651414  0.0  -9.624916  -453.481284   \n",
       "2  0.0  25.301335  1135.883365  1398.868428  0.0  24.672158  1240.927679   \n",
       "3  0.0 -18.076185  -781.079287  -869.878330  0.0   2.625820   -33.818668   \n",
       "4  0.0  -8.278624  -616.962005  -364.914141  0.0 -26.006435 -1375.330692   \n",
       "\n",
       "           ydf    theta0    thetaf    thetad0     thetadf      phi0      phif  \\\n",
       "0  1025.590654  6.131120  6.374237  -4.362304   18.768994  2.980416  3.129906   \n",
       "1  -539.384642  1.490836  0.829095 -23.387810  -61.680507  4.829182  4.088079   \n",
       "2  1263.804211  1.193553  1.836257  13.134190   69.962168  2.283918  2.844620   \n",
       "3   379.425268  2.070402  0.405501 -18.037803 -155.163940  1.280916 -0.346720   \n",
       "4 -1205.761078  3.099738  5.020734  12.026668  183.163244  1.545683  3.598217   \n",
       "\n",
       "       phid0       phidf             F     alpha          tau0  \n",
       "0   5.246435   14.071042  38573.087534  2.938092  66764.231874  \n",
       "1   6.518635  -65.660969  21324.196742  4.782864  53499.221528  \n",
       "2 -22.792458   65.929019  12257.348169  4.964735  58009.467034  \n",
       "3  -6.081534 -153.433685  18116.563803  0.316028 -28087.288479  \n",
       "4  15.126035  189.480850  29816.361602  2.991066 -92199.067427  "
      ]
     },
     "execution_count": 6,
     "metadata": {},
     "output_type": "execute_result"
    }
   ],
   "source": [
    "# save data to csv\n",
    "newDF = pd.DataFrame(bb, columns= [\"x0\", \"xf\", \"xd0\", \"xdf\", \"y0\", \"yf\", \"yd0\", \"ydf\", \"theta0\", \\\n",
    "\"thetaf\", \"thetad0\", \"thetadf\", \"phi0\", \"phif\", \"phid0\", \"phidf\", \"F\", \"alpha\", \"tau0\"])\n",
    "\n",
    "\n",
    "newDF.head()"
   ]
  },
  {
   "cell_type": "code",
   "execution_count": 7,
   "metadata": {},
   "outputs": [
    {
     "name": "stdout",
     "output_type": "stream",
     "text": [
      "2019_04_03__10_00_31\n"
     ]
    }
   ],
   "source": [
    "tstamp = datetime.now().strftime(\"%Y_%m_%d__%H_%M_%S\")\n",
    "print(tstamp)"
   ]
  },
  {
   "cell_type": "code",
   "execution_count": 8,
   "metadata": {},
   "outputs": [
    {
     "data": {
      "text/plain": [
       "'D:/Dropbox/AcademiaDropbox/mothMachineLearning_dataAndFigs/PythonGeneratedData/TestData'"
      ]
     },
     "execution_count": 8,
     "metadata": {},
     "output_type": "execute_result"
    }
   ],
   "source": [
    "pythonMadeData"
   ]
  },
  {
   "cell_type": "code",
   "execution_count": 9,
   "metadata": {},
   "outputs": [],
   "source": [
    "newDF.to_csv(os.path.join(pythonMadeData, \n",
    "                          \"RandomInitCond_\" + tstamp + \".csv\"),\n",
    "             index = False)"
   ]
  },
  {
   "cell_type": "code",
   "execution_count": 18,
   "metadata": {},
   "outputs": [
    {
     "name": "stdout",
     "output_type": "stream",
     "text": [
      "12.170493364334106\n",
      "12.538028240203857\n",
      "2019_04_03__10_12_58\n",
      "12.431798934936523\n",
      "12.785820722579956\n",
      "2019_04_03__10_13_13\n",
      "12.602301359176636\n",
      "12.951338768005371\n",
      "2019_04_03__10_13_28\n",
      "12.12761116027832\n",
      "12.53690242767334\n",
      "2019_04_03__10_13_43\n",
      "12.473654508590698\n",
      "12.855144739151001\n",
      "2019_04_03__10_13_58\n",
      "12.161490678787231\n",
      "12.53443956375122\n",
      "2019_04_03__10_14_13\n",
      "12.238284587860107\n",
      "12.629096984863281\n",
      "2019_04_03__10_14_28\n",
      "12.2592294216156\n",
      "12.65784215927124\n",
      "2019_04_03__10_14_43\n"
     ]
    }
   ],
   "source": [
    "# for loop to run parallel processes a few times\n",
    "\n",
    "for ii in range(8):\n",
    "    # parallel run of simulations -- this generates approximately 1 million simulations per hour\n",
    "    # this cell takes about an hour to run\n",
    "    p = Pool(cpu_count()-2)\n",
    "    stt = time.time()   \n",
    "    bb = p.map(multiProcTraj.flyBug_firstLast, range(100000) ) \n",
    "    print(time.time() -stt)\n",
    "\n",
    "    p.close()\n",
    "    p.join()\n",
    "    print(time.time() -stt)\n",
    "    newDF = pd.DataFrame(bb, columns= [\"x0\", \"xf\", \"xd0\", \"xdf\", \"y0\", \"yf\", \"yd0\", \"ydf\", \"theta0\", \\\n",
    "            \"thetaf\", \"thetad0\", \"thetadf\", \"phi0\", \"phif\", \"phid0\", \"phidf\", \"F\", \"alpha\", \"tau0\"])\n",
    "    \n",
    "    tstamp = datetime.now().strftime(\"%Y_%m_%d__%H_%M_%S\")\n",
    "    print(tstamp)\n",
    "    \n",
    "    newDF.to_csv(os.path.join(pythonMadeData, \n",
    "                          \"RandomInitCond_\" + tstamp + \".csv\"),\n",
    "             index = False)"
   ]
  },
  {
   "cell_type": "code",
   "execution_count": 19,
   "metadata": {},
   "outputs": [],
   "source": [
    "# refref: one million simulations per 96 seconds?"
   ]
  },
  {
   "cell_type": "code",
   "execution_count": null,
   "metadata": {},
   "outputs": [],
   "source": []
  },
  {
   "cell_type": "code",
   "execution_count": 20,
   "metadata": {},
   "outputs": [
    {
     "name": "stdout",
     "output_type": "stream",
     "text": [
      "12.143568515777588\n",
      "12.482109308242798\n",
      "2019_04_03__10_14_58\n",
      "12.04582667350769\n",
      "12.371912240982056\n",
      "2019_04_03__10_15_13\n",
      "12.307137966156006\n",
      "12.702399730682373\n",
      "2019_04_03__10_15_28\n",
      "12.314082384109497\n",
      "12.674564123153687\n",
      "2019_04_03__10_15_43\n",
      "12.46969723701477\n",
      "12.779642105102539\n",
      "2019_04_03__10_15_58\n",
      "11.989979028701782\n",
      "12.280172109603882\n",
      "2019_04_03__10_16_13\n",
      "12.210386037826538\n",
      "12.581607818603516\n",
      "2019_04_03__10_16_28\n",
      "12.374919414520264\n",
      "12.690775394439697\n",
      "2019_04_03__10_16_43\n"
     ]
    }
   ],
   "source": [
    "# for loop to run parallel processes a few times\n",
    "for ii in range(8):\n",
    "    # parallel run of simulations -- this generates approximately 1 million simulations per hour\n",
    "    p = Pool(cpu_count()-4)\n",
    "    stt = time.time()   \n",
    "    bb = p.map(multiProcTraj.flyBug_firstLast, range(100000) ) \n",
    "    print(time.time() -stt)\n",
    "\n",
    "    p.close()\n",
    "    p.join()\n",
    "    print(time.time() -stt)\n",
    "    newDF = pd.DataFrame(bb, columns= [\"x0\", \"xf\", \"xd0\", \"xdf\", \"y0\", \"yf\", \"yd0\", \"ydf\", \"theta0\", \\\n",
    "            \"thetaf\", \"thetad0\", \"thetadf\", \"phi0\", \"phif\", \"phid0\", \"phidf\", \"F\", \"alpha\", \"tau0\"])\n",
    "    \n",
    "    tstamp = datetime.now().strftime(\"%Y_%m_%d__%H_%M_%S\")\n",
    "    print(tstamp)\n",
    "    \n",
    "    newDF.to_csv(os.path.join(pythonMadeData, \n",
    "                          \"RandomInitCond_\" + tstamp + \".csv\"),\n",
    "             index = False)"
   ]
  },
  {
   "cell_type": "code",
   "execution_count": 21,
   "metadata": {},
   "outputs": [
    {
     "name": "stdout",
     "output_type": "stream",
     "text": [
      "12.2233247756958\n",
      "12.632879257202148\n",
      "2019_04_03__10_16_58\n",
      "12.080736875534058\n",
      "12.434906721115112\n",
      "2019_04_03__10_17_13\n",
      "12.11264681816101\n",
      "12.543555736541748\n",
      "2019_04_03__10_17_28\n",
      "12.087686777114868\n",
      "12.438823461532593\n",
      "2019_04_03__10_17_43\n",
      "12.020864963531494\n",
      "12.432202100753784\n",
      "2019_04_03__10_17_58\n",
      "12.255271196365356\n",
      "12.646639585494995\n",
      "2019_04_03__10_18_13\n",
      "12.120599031448364\n",
      "12.56366491317749\n",
      "2019_04_03__10_18_28\n",
      "12.12561321258545\n",
      "12.544893503189087\n",
      "2019_04_03__10_18_43\n"
     ]
    }
   ],
   "source": [
    "# for loop to run parallel processes a few times\n",
    "\n",
    "for ii in range(8):\n",
    "    # parallel run of simulations -- this generates approximately 1 million simulations per hour\n",
    "    # this cell takes about an hour to run\n",
    "    p = Pool(cpu_count()-2)\n",
    "    stt = time.time()   \n",
    "    bb = p.map(multiProcTraj.flyBug_firstLast, range(100000) ) \n",
    "    print(time.time() -stt)\n",
    "\n",
    "    p.close()\n",
    "    p.join()\n",
    "    print(time.time() -stt)\n",
    "    newDF = pd.DataFrame(bb, columns= [\"x0\", \"xf\", \"xd0\", \"xdf\", \"y0\", \"yf\", \"yd0\", \"ydf\", \"theta0\", \\\n",
    "            \"thetaf\", \"thetad0\", \"thetadf\", \"phi0\", \"phif\", \"phid0\", \"phidf\", \"F\", \"alpha\", \"tau0\"])\n",
    "    \n",
    "    tstamp = datetime.now().strftime(\"%Y_%m_%d__%H_%M_%S\")\n",
    "    print(tstamp)\n",
    "    \n",
    "    newDF.to_csv(os.path.join(pythonMadeData, \n",
    "                          \"RandomInitCond_\" + tstamp + \".csv\"),\n",
    "             index = False)"
   ]
  },
  {
   "cell_type": "code",
   "execution_count": null,
   "metadata": {},
   "outputs": [],
   "source": []
  }
 ],
 "metadata": {
  "celltoolbar": "Raw Cell Format",
  "kernelspec": {
   "display_name": "numSolve_parallel",
   "language": "python",
   "name": "numsolve_parallel"
  },
  "language_info": {
   "codemirror_mode": {
    "name": "ipython",
    "version": 3
   },
   "file_extension": ".py",
   "mimetype": "text/x-python",
   "name": "python",
   "nbconvert_exporter": "python",
   "pygments_lexer": "ipython3",
   "version": "3.6.7"
  }
 },
 "nbformat": 4,
 "nbformat_minor": 2
}
