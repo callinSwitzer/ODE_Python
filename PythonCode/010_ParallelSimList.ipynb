{
 "cells": [
  {
   "cell_type": "markdown",
   "metadata": {},
   "source": [
    "## Callin Switzer\n",
    "April 2019\n",
    "\n",
    "Multiprocessing with multiple arguments"
   ]
  },
  {
   "cell_type": "raw",
   "metadata": {},
   "source": []
  },
  {
   "cell_type": "code",
   "execution_count": 2,
   "metadata": {},
   "outputs": [
    {
     "name": "stdout",
     "output_type": "stream",
     "text": [
      "3.6.7 (default, Feb 28 2019, 07:28:18) [MSC v.1900 64 bit (AMD64)]\n"
     ]
    }
   ],
   "source": [
    "import matplotlib.pyplot as plt\n",
    "%matplotlib inline\n",
    "import numpy as np\n",
    "import os\n",
    "import pandas as pd\n",
    "import seaborn as sns\n",
    "from scipy.integrate import odeint\n",
    "import random\n",
    "import time\n",
    "from datetime import datetime\n",
    "import sys\n",
    "from multiprocessing import Pool, cpu_count\n",
    "import simUtils # note that this is a custom-written file \n",
    "\n",
    "print(sys.version)"
   ]
  },
  {
   "cell_type": "code",
   "execution_count": 3,
   "metadata": {},
   "outputs": [
    {
     "name": "stdout",
     "output_type": "stream",
     "text": [
      "last run on 2019-04-26 15:13:48.509869\n"
     ]
    }
   ],
   "source": [
    "now = datetime.now()\n",
    "print(\"last run on \" + str(now))\n"
   ]
  },
  {
   "cell_type": "code",
   "execution_count": 4,
   "metadata": {},
   "outputs": [],
   "source": [
    "K = 29.3 \n",
    "\n",
    "# c is the torsional damping constant of the thorax-petiole joint\n",
    "# in (cm^2)*g/s\n",
    "c =  14075.8   \n",
    "\n",
    "# refref: change. Gravity set to 0 for testing\n",
    "g =  980.0   #g is the acceleration due to gravity in cm/(s^2)\n",
    "#g =  0.0   #g is the acceleration due to gravity in cm/(s^2)\n",
    "\n",
    "# This is the resting configuration of our \n",
    "# torsional spring(s) = Initial abdomen angle - initial head angle - pi\n",
    "betaR =  0.0 "
   ]
  },
  {
   "cell_type": "code",
   "execution_count": 17,
   "metadata": {},
   "outputs": [],
   "source": [
    "globalDict = {\"bhead\": 0.507,\n",
    "            \"ahead\": 0.908,\n",
    "            \"bbutt\": 0.1295,\n",
    "            \"abutt\": 1.7475, \n",
    "            \"rho\": 1, \n",
    "            \"rhoA\": 0.00118, \n",
    "            \"muA\": 0.000186, \n",
    "            \"L1\": 0.908, \n",
    "            \"L2\": 1.7475,  \n",
    "            \"L3\": 0.75,\n",
    "            \"K\": 29.3,\n",
    "            \"c\":  14075.8,\n",
    "            \"g\": 980.0,\n",
    "            \"betaR\":  0.0,\n",
    "            }"
   ]
  },
  {
   "cell_type": "code",
   "execution_count": 24,
   "metadata": {},
   "outputs": [
    {
     "data": {
      "text/plain": [
       "{'bhead': 0.507,\n",
       " 'ahead': 0.908,\n",
       " 'bbutt': 0.1295,\n",
       " 'abutt': 1.7475,\n",
       " 'rho': 1,\n",
       " 'rhoA': 0.00118,\n",
       " 'muA': 0.000186,\n",
       " 'L1': 0.908,\n",
       " 'L2': 1.7475,\n",
       " 'L3': 0.75,\n",
       " 'K': 29.3,\n",
       " 'c': 14075.8,\n",
       " 'g': 980.0,\n",
       " 'betaR': 0.0,\n",
       " 'm2': 0.12275673548335365,\n",
       " 'echead': 1.7909270216962525,\n",
       " 'ecbutt': 13.494208494208495}"
      ]
     },
     "execution_count": 24,
     "metadata": {},
     "output_type": "execute_result"
    }
   ],
   "source": [
    "# refref: here\n",
    "\n",
    "globalDict[\"m2\"] = globalDict[\"rho\"]*(4/3)*np.pi*(globalDict[\"bbutt\"]**2)*globalDict[\"abutt\"]\n",
    "globalDict[\"echead\"] = globalDict[\"ahead\"]/globalDict[\"bhead\"]\n",
    "globalDict['ecbutt'] = globalDict['abutt']/globalDict['bbutt']\n",
    "globalDict"
   ]
  },
  {
   "cell_type": "code",
   "execution_count": null,
   "metadata": {},
   "outputs": [],
   "source": [
    "# calculated variables for data dict\n",
    "globalDict[\"m2\"] = globalDict[\"rho\"]*(4/3)*np.pi*(globalDict[\"bbutt\"]**2)*globalDict[\"abutt\"]\n",
    "\n",
    "echead = ahead/bhead; #Eccentricity of head-thorax (unitless)\n",
    "ecbutt = abutt/bbutt; #Eccentricity of gaster (unitless)\n",
    "I1 = (1/5)*m1*(bhead**2)*(1 + echead**2); #Moment of inertia of the \n",
    "    #head-thorax\n",
    "I2 = (1/5)*m2*(bbutt**2)*(1 + ecbutt**2); #Moment of inertia of the gaster\n",
    "\n",
    "#This is the surface area of the object experiencing drag.\n",
    "S_head = np.pi*bhead**2\n",
    "\n",
    "#This is the surface area of the object experiencing drag.\n",
    "S_butt = np.pi*bbutt**2 "
   ]
  },
  {
   "cell_type": "code",
   "execution_count": 18,
   "metadata": {},
   "outputs": [
    {
     "data": {
      "text/plain": [
       "{'globalVars': {'bhead': 0.507,\n",
       "  'ahead': 0.908,\n",
       "  'bbutt': 0.1295,\n",
       "  'abutt': 1.7475,\n",
       "  'rho': 1,\n",
       "  'rhoA': 0.00118,\n",
       "  'muA': 0.000186,\n",
       "  'L1': 0.908,\n",
       "  'L2': 1.7475,\n",
       "  'L3': 0.75,\n",
       "  'K': 29.3,\n",
       "  'c': 14075.8,\n",
       "  'g': 980.0,\n",
       "  'betaR': 0.0}}"
      ]
     },
     "execution_count": 18,
     "metadata": {},
     "output_type": "execute_result"
    }
   ],
   "source": [
    "dataDict = {\"globalVars\": globalDict}\n",
    "dataDict"
   ]
  },
  {
   "cell_type": "code",
   "execution_count": 5,
   "metadata": {},
   "outputs": [
    {
     "name": "stdout",
     "output_type": "stream",
     "text": [
      "2.3627583980560303\n",
      "2.632336139678955\n"
     ]
    }
   ],
   "source": [
    "\n",
    "# parallel run of simulations -- this generates approximately 1 million simulations per hour\n",
    "p = Pool(cpu_count()-1)\n",
    "stt = time.time()   \n",
    "# bb = p.map(multiProcTraj.flyBug_firstLast, range(100000) ) \n",
    "bb = p.map(simUtils.flyBug_firstLast, range(5) ) \n",
    "print(time.time() -stt)\n",
    "\n",
    "p.close()\n",
    "p.join()\n",
    "print(time.time() -stt)"
   ]
  },
  {
   "cell_type": "code",
   "execution_count": 6,
   "metadata": {},
   "outputs": [
    {
     "data": {
      "text/plain": [
       "5"
      ]
     },
     "execution_count": 6,
     "metadata": {},
     "output_type": "execute_result"
    }
   ],
   "source": [
    "len(bb)"
   ]
  },
  {
   "cell_type": "code",
   "execution_count": 9,
   "metadata": {},
   "outputs": [
    {
     "data": {
      "text/html": [
       "<div>\n",
       "<style scoped>\n",
       "    .dataframe tbody tr th:only-of-type {\n",
       "        vertical-align: middle;\n",
       "    }\n",
       "\n",
       "    .dataframe tbody tr th {\n",
       "        vertical-align: top;\n",
       "    }\n",
       "\n",
       "    .dataframe thead th {\n",
       "        text-align: right;\n",
       "    }\n",
       "</style>\n",
       "<table border=\"1\" class=\"dataframe\">\n",
       "  <thead>\n",
       "    <tr style=\"text-align: right;\">\n",
       "      <th></th>\n",
       "      <th>x0</th>\n",
       "      <th>xf</th>\n",
       "      <th>xd0</th>\n",
       "      <th>xdf</th>\n",
       "      <th>y0</th>\n",
       "      <th>yf</th>\n",
       "      <th>yd0</th>\n",
       "      <th>ydf</th>\n",
       "      <th>theta0</th>\n",
       "      <th>thetaf</th>\n",
       "      <th>thetad0</th>\n",
       "      <th>thetadf</th>\n",
       "      <th>phi0</th>\n",
       "      <th>phif</th>\n",
       "      <th>phid0</th>\n",
       "      <th>phidf</th>\n",
       "      <th>F</th>\n",
       "      <th>alpha</th>\n",
       "      <th>tau0</th>\n",
       "    </tr>\n",
       "  </thead>\n",
       "  <tbody>\n",
       "    <tr>\n",
       "      <th>0</th>\n",
       "      <td>0.0</td>\n",
       "      <td>24.340899</td>\n",
       "      <td>1313.773246</td>\n",
       "      <td>1118.739278</td>\n",
       "      <td>0.0</td>\n",
       "      <td>25.365155</td>\n",
       "      <td>1279.593660</td>\n",
       "      <td>1261.945105</td>\n",
       "      <td>3.877824</td>\n",
       "      <td>3.809095</td>\n",
       "      <td>-14.627348</td>\n",
       "      <td>12.184288</td>\n",
       "      <td>3.486631</td>\n",
       "      <td>3.503013</td>\n",
       "      <td>-15.963679</td>\n",
       "      <td>16.447035</td>\n",
       "      <td>9525.924585</td>\n",
       "      <td>5.710089</td>\n",
       "      <td>-59883.556340</td>\n",
       "    </tr>\n",
       "    <tr>\n",
       "      <th>1</th>\n",
       "      <td>0.0</td>\n",
       "      <td>-6.030707</td>\n",
       "      <td>-209.478331</td>\n",
       "      <td>-404.119399</td>\n",
       "      <td>0.0</td>\n",
       "      <td>-18.573711</td>\n",
       "      <td>-1030.792267</td>\n",
       "      <td>-848.883591</td>\n",
       "      <td>3.550411</td>\n",
       "      <td>4.016087</td>\n",
       "      <td>14.486710</td>\n",
       "      <td>22.036513</td>\n",
       "      <td>1.807386</td>\n",
       "      <td>2.155328</td>\n",
       "      <td>23.072203</td>\n",
       "      <td>16.139997</td>\n",
       "      <td>14952.149048</td>\n",
       "      <td>4.823505</td>\n",
       "      <td>82087.803871</td>\n",
       "    </tr>\n",
       "    <tr>\n",
       "      <th>2</th>\n",
       "      <td>0.0</td>\n",
       "      <td>16.672989</td>\n",
       "      <td>653.763181</td>\n",
       "      <td>636.468054</td>\n",
       "      <td>0.0</td>\n",
       "      <td>-13.893948</td>\n",
       "      <td>-883.714150</td>\n",
       "      <td>-704.563706</td>\n",
       "      <td>5.288458</td>\n",
       "      <td>1.684408</td>\n",
       "      <td>-2.421259</td>\n",
       "      <td>-371.482559</td>\n",
       "      <td>5.487810</td>\n",
       "      <td>1.817826</td>\n",
       "      <td>20.010103</td>\n",
       "      <td>-374.645602</td>\n",
       "      <td>44206.927211</td>\n",
       "      <td>2.566020</td>\n",
       "      <td>46751.769057</td>\n",
       "    </tr>\n",
       "    <tr>\n",
       "      <th>3</th>\n",
       "      <td>0.0</td>\n",
       "      <td>-20.031843</td>\n",
       "      <td>-879.445123</td>\n",
       "      <td>-1402.360768</td>\n",
       "      <td>0.0</td>\n",
       "      <td>27.280875</td>\n",
       "      <td>1025.418672</td>\n",
       "      <td>1526.083675</td>\n",
       "      <td>1.639914</td>\n",
       "      <td>3.624595</td>\n",
       "      <td>-3.114772</td>\n",
       "      <td>192.303518</td>\n",
       "      <td>2.543247</td>\n",
       "      <td>4.624861</td>\n",
       "      <td>6.238099</td>\n",
       "      <td>197.428560</td>\n",
       "      <td>37678.572352</td>\n",
       "      <td>0.107532</td>\n",
       "      <td>-63814.407173</td>\n",
       "    </tr>\n",
       "    <tr>\n",
       "      <th>4</th>\n",
       "      <td>0.0</td>\n",
       "      <td>11.464058</td>\n",
       "      <td>524.726063</td>\n",
       "      <td>708.510661</td>\n",
       "      <td>0.0</td>\n",
       "      <td>21.311090</td>\n",
       "      <td>745.852501</td>\n",
       "      <td>1356.139627</td>\n",
       "      <td>3.555651</td>\n",
       "      <td>2.478600</td>\n",
       "      <td>11.553184</td>\n",
       "      <td>-102.581083</td>\n",
       "      <td>5.607401</td>\n",
       "      <td>4.662310</td>\n",
       "      <td>-15.913364</td>\n",
       "      <td>-95.909443</td>\n",
       "      <td>43072.386005</td>\n",
       "      <td>4.381097</td>\n",
       "      <td>-96592.023858</td>\n",
       "    </tr>\n",
       "  </tbody>\n",
       "</table>\n",
       "</div>"
      ],
      "text/plain": [
       "    x0         xf          xd0          xdf   y0         yf          yd0  \\\n",
       "0  0.0  24.340899  1313.773246  1118.739278  0.0  25.365155  1279.593660   \n",
       "1  0.0  -6.030707  -209.478331  -404.119399  0.0 -18.573711 -1030.792267   \n",
       "2  0.0  16.672989   653.763181   636.468054  0.0 -13.893948  -883.714150   \n",
       "3  0.0 -20.031843  -879.445123 -1402.360768  0.0  27.280875  1025.418672   \n",
       "4  0.0  11.464058   524.726063   708.510661  0.0  21.311090   745.852501   \n",
       "\n",
       "           ydf    theta0    thetaf    thetad0     thetadf      phi0      phif  \\\n",
       "0  1261.945105  3.877824  3.809095 -14.627348   12.184288  3.486631  3.503013   \n",
       "1  -848.883591  3.550411  4.016087  14.486710   22.036513  1.807386  2.155328   \n",
       "2  -704.563706  5.288458  1.684408  -2.421259 -371.482559  5.487810  1.817826   \n",
       "3  1526.083675  1.639914  3.624595  -3.114772  192.303518  2.543247  4.624861   \n",
       "4  1356.139627  3.555651  2.478600  11.553184 -102.581083  5.607401  4.662310   \n",
       "\n",
       "       phid0       phidf             F     alpha          tau0  \n",
       "0 -15.963679   16.447035   9525.924585  5.710089 -59883.556340  \n",
       "1  23.072203   16.139997  14952.149048  4.823505  82087.803871  \n",
       "2  20.010103 -374.645602  44206.927211  2.566020  46751.769057  \n",
       "3   6.238099  197.428560  37678.572352  0.107532 -63814.407173  \n",
       "4 -15.913364  -95.909443  43072.386005  4.381097 -96592.023858  "
      ]
     },
     "execution_count": 9,
     "metadata": {},
     "output_type": "execute_result"
    }
   ],
   "source": [
    "# save data to csv\n",
    "newDF = pd.DataFrame(bb, columns= [\"x0\", \"xf\", \"xd0\", \"xdf\", \"y0\", \"yf\", \"yd0\", \"ydf\", \"theta0\", \\\n",
    "\"thetaf\", \"thetad0\", \"thetadf\", \"phi0\", \"phif\", \"phid0\", \"phidf\", \"F\", \"alpha\", \"tau0\"])\n",
    "\n",
    "\n",
    "newDF.head()"
   ]
  },
  {
   "cell_type": "code",
   "execution_count": 7,
   "metadata": {},
   "outputs": [
    {
     "data": {
      "text/html": [
       "<div>\n",
       "<style scoped>\n",
       "    .dataframe tbody tr th:only-of-type {\n",
       "        vertical-align: middle;\n",
       "    }\n",
       "\n",
       "    .dataframe tbody tr th {\n",
       "        vertical-align: top;\n",
       "    }\n",
       "\n",
       "    .dataframe thead th {\n",
       "        text-align: right;\n",
       "    }\n",
       "</style>\n",
       "<table border=\"1\" class=\"dataframe\">\n",
       "  <thead>\n",
       "    <tr style=\"text-align: right;\">\n",
       "      <th></th>\n",
       "      <th>x0</th>\n",
       "      <th>xf</th>\n",
       "      <th>xd0</th>\n",
       "      <th>xdf</th>\n",
       "      <th>y0</th>\n",
       "      <th>yf</th>\n",
       "      <th>yd0</th>\n",
       "      <th>ydf</th>\n",
       "      <th>theta0</th>\n",
       "      <th>thetaf</th>\n",
       "      <th>thetad0</th>\n",
       "      <th>thetadf</th>\n",
       "      <th>phi0</th>\n",
       "      <th>phif</th>\n",
       "      <th>phid0</th>\n",
       "      <th>phidf</th>\n",
       "      <th>F</th>\n",
       "      <th>alpha</th>\n",
       "      <th>tau0</th>\n",
       "    </tr>\n",
       "  </thead>\n",
       "  <tbody>\n",
       "    <tr>\n",
       "      <th>0</th>\n",
       "      <td>0.0</td>\n",
       "      <td>-15.583832</td>\n",
       "      <td>-798.135971</td>\n",
       "      <td>-776.795062</td>\n",
       "      <td>0.0</td>\n",
       "      <td>4.241895</td>\n",
       "      <td>117.571616</td>\n",
       "      <td>322.114175</td>\n",
       "      <td>0.565720</td>\n",
       "      <td>0.728147</td>\n",
       "      <td>-21.598231</td>\n",
       "      <td>18.386510</td>\n",
       "      <td>3.927618</td>\n",
       "      <td>4.208466</td>\n",
       "      <td>18.478888</td>\n",
       "      <td>24.290336</td>\n",
       "      <td>13794.749225</td>\n",
       "      <td>0.955305</td>\n",
       "      <td>-82154.467965</td>\n",
       "    </tr>\n",
       "    <tr>\n",
       "      <th>1</th>\n",
       "      <td>0.0</td>\n",
       "      <td>20.694136</td>\n",
       "      <td>760.978307</td>\n",
       "      <td>1206.209327</td>\n",
       "      <td>0.0</td>\n",
       "      <td>5.857230</td>\n",
       "      <td>500.507780</td>\n",
       "      <td>36.114042</td>\n",
       "      <td>1.844925</td>\n",
       "      <td>0.849353</td>\n",
       "      <td>-20.252023</td>\n",
       "      <td>-103.758826</td>\n",
       "      <td>4.685064</td>\n",
       "      <td>3.641893</td>\n",
       "      <td>19.863159</td>\n",
       "      <td>-106.123112</td>\n",
       "      <td>39423.110830</td>\n",
       "      <td>3.966777</td>\n",
       "      <td>29990.238672</td>\n",
       "    </tr>\n",
       "    <tr>\n",
       "      <th>2</th>\n",
       "      <td>0.0</td>\n",
       "      <td>-18.286874</td>\n",
       "      <td>-735.627592</td>\n",
       "      <td>-891.439751</td>\n",
       "      <td>0.0</td>\n",
       "      <td>21.909691</td>\n",
       "      <td>950.266900</td>\n",
       "      <td>1349.169432</td>\n",
       "      <td>1.750889</td>\n",
       "      <td>0.049342</td>\n",
       "      <td>15.708582</td>\n",
       "      <td>-166.638607</td>\n",
       "      <td>1.898136</td>\n",
       "      <td>0.122352</td>\n",
       "      <td>-14.938776</td>\n",
       "      <td>-170.318759</td>\n",
       "      <td>18381.485588</td>\n",
       "      <td>0.875628</td>\n",
       "      <td>51661.267162</td>\n",
       "    </tr>\n",
       "    <tr>\n",
       "      <th>3</th>\n",
       "      <td>0.0</td>\n",
       "      <td>-16.407055</td>\n",
       "      <td>-880.277711</td>\n",
       "      <td>-762.137338</td>\n",
       "      <td>0.0</td>\n",
       "      <td>3.908073</td>\n",
       "      <td>240.148055</td>\n",
       "      <td>143.357324</td>\n",
       "      <td>5.692428</td>\n",
       "      <td>5.380496</td>\n",
       "      <td>2.188986</td>\n",
       "      <td>-35.352477</td>\n",
       "      <td>4.171733</td>\n",
       "      <td>3.842600</td>\n",
       "      <td>4.913136</td>\n",
       "      <td>-36.225159</td>\n",
       "      <td>6903.613230</td>\n",
       "      <td>6.156277</td>\n",
       "      <td>11651.262057</td>\n",
       "    </tr>\n",
       "    <tr>\n",
       "      <th>4</th>\n",
       "      <td>0.0</td>\n",
       "      <td>-1.305426</td>\n",
       "      <td>-118.857385</td>\n",
       "      <td>-10.712816</td>\n",
       "      <td>0.0</td>\n",
       "      <td>-9.122142</td>\n",
       "      <td>-465.474879</td>\n",
       "      <td>-469.147602</td>\n",
       "      <td>3.793257</td>\n",
       "      <td>3.268752</td>\n",
       "      <td>-22.062717</td>\n",
       "      <td>-43.507957</td>\n",
       "      <td>5.319005</td>\n",
       "      <td>4.807174</td>\n",
       "      <td>1.601871</td>\n",
       "      <td>-42.875572</td>\n",
       "      <td>6202.305362</td>\n",
       "      <td>3.010038</td>\n",
       "      <td>-9042.907675</td>\n",
       "    </tr>\n",
       "  </tbody>\n",
       "</table>\n",
       "</div>"
      ],
      "text/plain": [
       "    x0         xf         xd0          xdf   y0         yf         yd0  \\\n",
       "0  0.0 -15.583832 -798.135971  -776.795062  0.0   4.241895  117.571616   \n",
       "1  0.0  20.694136  760.978307  1206.209327  0.0   5.857230  500.507780   \n",
       "2  0.0 -18.286874 -735.627592  -891.439751  0.0  21.909691  950.266900   \n",
       "3  0.0 -16.407055 -880.277711  -762.137338  0.0   3.908073  240.148055   \n",
       "4  0.0  -1.305426 -118.857385   -10.712816  0.0  -9.122142 -465.474879   \n",
       "\n",
       "           ydf    theta0    thetaf    thetad0     thetadf      phi0      phif  \\\n",
       "0   322.114175  0.565720  0.728147 -21.598231   18.386510  3.927618  4.208466   \n",
       "1    36.114042  1.844925  0.849353 -20.252023 -103.758826  4.685064  3.641893   \n",
       "2  1349.169432  1.750889  0.049342  15.708582 -166.638607  1.898136  0.122352   \n",
       "3   143.357324  5.692428  5.380496   2.188986  -35.352477  4.171733  3.842600   \n",
       "4  -469.147602  3.793257  3.268752 -22.062717  -43.507957  5.319005  4.807174   \n",
       "\n",
       "       phid0       phidf             F     alpha          tau0  \n",
       "0  18.478888   24.290336  13794.749225  0.955305 -82154.467965  \n",
       "1  19.863159 -106.123112  39423.110830  3.966777  29990.238672  \n",
       "2 -14.938776 -170.318759  18381.485588  0.875628  51661.267162  \n",
       "3   4.913136  -36.225159   6903.613230  6.156277  11651.262057  \n",
       "4   1.601871  -42.875572   6202.305362  3.010038  -9042.907675  "
      ]
     },
     "execution_count": 7,
     "metadata": {},
     "output_type": "execute_result"
    }
   ],
   "source": [
    "# save data to csv\n",
    "newDF = pd.DataFrame(bb, columns= [\"x0\", \"xf\", \"xd0\", \"xdf\", \"y0\", \"yf\", \"yd0\", \"ydf\", \"theta0\", \\\n",
    "\"thetaf\", \"thetad0\", \"thetadf\", \"phi0\", \"phif\", \"phid0\", \"phidf\", \"F\", \"alpha\", \"tau0\"])\n",
    "\n",
    "\n",
    "newDF.head()"
   ]
  },
  {
   "cell_type": "code",
   "execution_count": 7,
   "metadata": {},
   "outputs": [
    {
     "name": "stdout",
     "output_type": "stream",
     "text": [
      "2019_04_03__10_00_31\n"
     ]
    }
   ],
   "source": [
    "tstamp = datetime.now().strftime(\"%Y_%m_%d__%H_%M_%S\")\n",
    "print(tstamp)"
   ]
  },
  {
   "cell_type": "code",
   "execution_count": 8,
   "metadata": {},
   "outputs": [
    {
     "data": {
      "text/plain": [
       "'D:/Dropbox/AcademiaDropbox/mothMachineLearning_dataAndFigs/PythonGeneratedData/TestData'"
      ]
     },
     "execution_count": 8,
     "metadata": {},
     "output_type": "execute_result"
    }
   ],
   "source": [
    "pythonMadeData"
   ]
  },
  {
   "cell_type": "code",
   "execution_count": 9,
   "metadata": {},
   "outputs": [],
   "source": [
    "newDF.to_csv(os.path.join(pythonMadeData, \n",
    "                          \"RandomInitCond_\" + tstamp + \".csv\"),\n",
    "             index = False)"
   ]
  },
  {
   "cell_type": "code",
   "execution_count": 18,
   "metadata": {},
   "outputs": [
    {
     "name": "stdout",
     "output_type": "stream",
     "text": [
      "12.170493364334106\n",
      "12.538028240203857\n",
      "2019_04_03__10_12_58\n",
      "12.431798934936523\n",
      "12.785820722579956\n",
      "2019_04_03__10_13_13\n",
      "12.602301359176636\n",
      "12.951338768005371\n",
      "2019_04_03__10_13_28\n",
      "12.12761116027832\n",
      "12.53690242767334\n",
      "2019_04_03__10_13_43\n",
      "12.473654508590698\n",
      "12.855144739151001\n",
      "2019_04_03__10_13_58\n",
      "12.161490678787231\n",
      "12.53443956375122\n",
      "2019_04_03__10_14_13\n",
      "12.238284587860107\n",
      "12.629096984863281\n",
      "2019_04_03__10_14_28\n",
      "12.2592294216156\n",
      "12.65784215927124\n",
      "2019_04_03__10_14_43\n"
     ]
    }
   ],
   "source": [
    "# for loop to run parallel processes a few times\n",
    "\n",
    "for ii in range(8):\n",
    "    # parallel run of simulations -- this generates approximately 1 million simulations per hour\n",
    "    # this cell takes about an hour to run\n",
    "    p = Pool(cpu_count()-2)\n",
    "    stt = time.time()   \n",
    "    bb = p.map(multiProcTraj.flyBug_firstLast, range(100000) ) \n",
    "    print(time.time() -stt)\n",
    "\n",
    "    p.close()\n",
    "    p.join()\n",
    "    print(time.time() -stt)\n",
    "    newDF = pd.DataFrame(bb, columns= [\"x0\", \"xf\", \"xd0\", \"xdf\", \"y0\", \"yf\", \"yd0\", \"ydf\", \"theta0\", \\\n",
    "            \"thetaf\", \"thetad0\", \"thetadf\", \"phi0\", \"phif\", \"phid0\", \"phidf\", \"F\", \"alpha\", \"tau0\"])\n",
    "    \n",
    "    tstamp = datetime.now().strftime(\"%Y_%m_%d__%H_%M_%S\")\n",
    "    print(tstamp)\n",
    "    \n",
    "    newDF.to_csv(os.path.join(pythonMadeData, \n",
    "                          \"RandomInitCond_\" + tstamp + \".csv\"),\n",
    "             index = False)"
   ]
  },
  {
   "cell_type": "code",
   "execution_count": 19,
   "metadata": {},
   "outputs": [],
   "source": [
    "# refref: one million simulations per 96 seconds?"
   ]
  },
  {
   "cell_type": "code",
   "execution_count": null,
   "metadata": {},
   "outputs": [],
   "source": []
  },
  {
   "cell_type": "code",
   "execution_count": 20,
   "metadata": {},
   "outputs": [
    {
     "name": "stdout",
     "output_type": "stream",
     "text": [
      "12.143568515777588\n",
      "12.482109308242798\n",
      "2019_04_03__10_14_58\n",
      "12.04582667350769\n",
      "12.371912240982056\n",
      "2019_04_03__10_15_13\n",
      "12.307137966156006\n",
      "12.702399730682373\n",
      "2019_04_03__10_15_28\n",
      "12.314082384109497\n",
      "12.674564123153687\n",
      "2019_04_03__10_15_43\n",
      "12.46969723701477\n",
      "12.779642105102539\n",
      "2019_04_03__10_15_58\n",
      "11.989979028701782\n",
      "12.280172109603882\n",
      "2019_04_03__10_16_13\n",
      "12.210386037826538\n",
      "12.581607818603516\n",
      "2019_04_03__10_16_28\n",
      "12.374919414520264\n",
      "12.690775394439697\n",
      "2019_04_03__10_16_43\n"
     ]
    }
   ],
   "source": [
    "# for loop to run parallel processes a few times\n",
    "for ii in range(8):\n",
    "    # parallel run of simulations -- this generates approximately 1 million simulations per hour\n",
    "    p = Pool(cpu_count()-4)\n",
    "    stt = time.time()   \n",
    "    bb = p.map(multiProcTraj.flyBug_firstLast, range(100000) ) \n",
    "    print(time.time() -stt)\n",
    "\n",
    "    p.close()\n",
    "    p.join()\n",
    "    print(time.time() -stt)\n",
    "    newDF = pd.DataFrame(bb, columns= [\"x0\", \"xf\", \"xd0\", \"xdf\", \"y0\", \"yf\", \"yd0\", \"ydf\", \"theta0\", \\\n",
    "            \"thetaf\", \"thetad0\", \"thetadf\", \"phi0\", \"phif\", \"phid0\", \"phidf\", \"F\", \"alpha\", \"tau0\"])\n",
    "    \n",
    "    tstamp = datetime.now().strftime(\"%Y_%m_%d__%H_%M_%S\")\n",
    "    print(tstamp)\n",
    "    \n",
    "    newDF.to_csv(os.path.join(pythonMadeData, \n",
    "                          \"RandomInitCond_\" + tstamp + \".csv\"),\n",
    "             index = False)"
   ]
  },
  {
   "cell_type": "code",
   "execution_count": 21,
   "metadata": {},
   "outputs": [
    {
     "name": "stdout",
     "output_type": "stream",
     "text": [
      "12.2233247756958\n",
      "12.632879257202148\n",
      "2019_04_03__10_16_58\n",
      "12.080736875534058\n",
      "12.434906721115112\n",
      "2019_04_03__10_17_13\n",
      "12.11264681816101\n",
      "12.543555736541748\n",
      "2019_04_03__10_17_28\n",
      "12.087686777114868\n",
      "12.438823461532593\n",
      "2019_04_03__10_17_43\n",
      "12.020864963531494\n",
      "12.432202100753784\n",
      "2019_04_03__10_17_58\n",
      "12.255271196365356\n",
      "12.646639585494995\n",
      "2019_04_03__10_18_13\n",
      "12.120599031448364\n",
      "12.56366491317749\n",
      "2019_04_03__10_18_28\n",
      "12.12561321258545\n",
      "12.544893503189087\n",
      "2019_04_03__10_18_43\n"
     ]
    }
   ],
   "source": [
    "# for loop to run parallel processes a few times\n",
    "\n",
    "for ii in range(8):\n",
    "    # parallel run of simulations -- this generates approximately 1 million simulations per hour\n",
    "    # this cell takes about an hour to run\n",
    "    p = Pool(cpu_count()-2)\n",
    "    stt = time.time()   \n",
    "    bb = p.map(multiProcTraj.flyBug_firstLast, range(100000) ) \n",
    "    print(time.time() -stt)\n",
    "\n",
    "    p.close()\n",
    "    p.join()\n",
    "    print(time.time() -stt)\n",
    "    newDF = pd.DataFrame(bb, columns= [\"x0\", \"xf\", \"xd0\", \"xdf\", \"y0\", \"yf\", \"yd0\", \"ydf\", \"theta0\", \\\n",
    "            \"thetaf\", \"thetad0\", \"thetadf\", \"phi0\", \"phif\", \"phid0\", \"phidf\", \"F\", \"alpha\", \"tau0\"])\n",
    "    \n",
    "    tstamp = datetime.now().strftime(\"%Y_%m_%d__%H_%M_%S\")\n",
    "    print(tstamp)\n",
    "    \n",
    "    newDF.to_csv(os.path.join(pythonMadeData, \n",
    "                          \"RandomInitCond_\" + tstamp + \".csv\"),\n",
    "             index = False)"
   ]
  },
  {
   "cell_type": "code",
   "execution_count": null,
   "metadata": {},
   "outputs": [],
   "source": []
  }
 ],
 "metadata": {
  "celltoolbar": "Raw Cell Format",
  "kernelspec": {
   "display_name": "numSolve_parallel",
   "language": "python",
   "name": "numsolve_parallel"
  },
  "language_info": {
   "codemirror_mode": {
    "name": "ipython",
    "version": 3
   },
   "file_extension": ".py",
   "mimetype": "text/x-python",
   "name": "python",
   "nbconvert_exporter": "python",
   "pygments_lexer": "ipython3",
   "version": "3.6.7"
  }
 },
 "nbformat": 4,
 "nbformat_minor": 2
}
