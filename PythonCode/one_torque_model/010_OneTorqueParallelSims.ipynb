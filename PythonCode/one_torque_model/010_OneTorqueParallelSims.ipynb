{
 "cells": [
  {
   "cell_type": "markdown",
   "metadata": {},
   "source": [
    "## Callin Switzer\n",
    "### 23 Sept 2019\n",
    "### Simulate data for training neural network \n",
    "### This uses the \"one torque\" or  the \"under-determined\" model"
   ]
  },
  {
   "cell_type": "code",
   "execution_count": 3,
   "metadata": {},
   "outputs": [
    {
     "name": "stdout",
     "output_type": "stream",
     "text": [
      "3.6.7 (default, Feb 28 2019, 07:28:18) [MSC v.1900 64 bit (AMD64)]\n"
     ]
    }
   ],
   "source": [
    "import matplotlib.pyplot as plt\n",
    "%matplotlib inline\n",
    "import numpy as np\n",
    "import os\n",
    "import pandas as pd\n",
    "import seaborn as sns\n",
    "from scipy.integrate import odeint\n",
    "import random\n",
    "import time\n",
    "from datetime import datetime\n",
    "import sys\n",
    "from multiprocessing import Pool, cpu_count\n",
    "import multiProcTraj_one_torque as multiProcTraj # note that this is a custom-written file \n",
    "\n",
    "print(sys.version)"
   ]
  },
  {
   "cell_type": "code",
   "execution_count": 4,
   "metadata": {},
   "outputs": [
    {
     "name": "stdout",
     "output_type": "stream",
     "text": [
      "last run on 2019-09-23 15:18:31.142186\n"
     ]
    }
   ],
   "source": [
    "now = datetime.now()\n",
    "print(\"last run on \" + str(now))\n",
    "\n",
    "# define directories\n",
    "baseDir = os.getcwd()\n",
    "figDir = r'D:\\Dropbox\\AcademiaDropbox\\mothMachineLearning_dataAndFigs\\Figs'\n",
    "dataOutput = r'D:\\Dropbox\\AcademiaDropbox\\mothMachineLearning_dataAndFigs\\DataOutput'\n",
    "savedModels = r'D:\\Dropbox\\AcademiaDropbox\\mothMachineLearning_dataAndFigs\\savedModels'\n",
    "dataDir = r\"D:/Dropbox/AcademiaDropbox/mothMachineLearning_dataAndFigs/data\"\n",
    "\n",
    "if not os.path.exists(dataOutput):\n",
    "    os.mkdir(dataOutput)\n",
    "    \n",
    "if not os.path.exists(dataDir):\n",
    "    os.mkdir(dataDir)\n",
    "    \n",
    "if not os.path.exists(savedModels):\n",
    "    os.mkdir(savedModels)"
   ]
  },
  {
   "cell_type": "code",
   "execution_count": 5,
   "metadata": {},
   "outputs": [
    {
     "name": "stdout",
     "output_type": "stream",
     "text": [
      "59.85388231277466\n",
      "60.30206656455994\n",
      "2019_09_23__15_19_33\n",
      "58.32891225814819\n",
      "58.70071887969971\n",
      "2019_09_23__15_20_34\n",
      "60.39499473571777\n",
      "60.744532108306885\n",
      "2019_09_23__15_21_37\n",
      "58.075815200805664\n",
      "58.487144470214844\n",
      "2019_09_23__15_22_38\n",
      "61.45731234550476\n",
      "61.84253168106079\n",
      "2019_09_23__15_23_42\n"
     ]
    }
   ],
   "source": [
    "# for loop to run parallel processes a few times\n",
    "\n",
    "for ii in range(5):\n",
    "    p = Pool(cpu_count()-2)\n",
    "    stt = time.time()   \n",
    "    bb = p.map(multiProcTraj.flyBug_firstLast, range(100000) ) \n",
    "    print(time.time() -stt)\n",
    "\n",
    "    p.close()\n",
    "    p.join()\n",
    "    print(time.time() -stt)\n",
    "    newDF = pd.DataFrame(bb, columns= [\"x0\", \"xf\", \"xd0\", \"xdf\", \"y0\", \"yf\", \"yd0\", \"ydf\", \"theta0\", \\\n",
    "            \"thetaf\", \"thetad0\", \"thetadf\", \"phi0\", \"phif\", \"phid0\", \"phidf\", \"F\", \"alpha\", \"tau0\"])\n",
    "    \n",
    "    tstamp = datetime.now().strftime(\"%Y_%m_%d__%H_%M_%S\")\n",
    "    print(tstamp)\n",
    "    \n",
    "    newDF.to_csv(os.path.join(dataDir, \n",
    "                          \"RandomInitCond_\" + tstamp + \".csv\"),\n",
    "             index = False)"
   ]
  }
 ],
 "metadata": {
  "celltoolbar": "Raw Cell Format",
  "kernelspec": {
   "display_name": "numSolve_parallel",
   "language": "python",
   "name": "numsolve_parallel"
  },
  "language_info": {
   "codemirror_mode": {
    "name": "ipython",
    "version": 3
   },
   "file_extension": ".py",
   "mimetype": "text/x-python",
   "name": "python",
   "nbconvert_exporter": "python",
   "pygments_lexer": "ipython3",
   "version": "3.6.7"
  }
 },
 "nbformat": 4,
 "nbformat_minor": 2
}
